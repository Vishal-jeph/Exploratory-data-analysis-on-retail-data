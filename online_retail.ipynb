{
 "cells": [
  {
   "cell_type": "markdown",
   "metadata": {},
   "source": [
    "# Portfolio Project: Online Retail Exploratory Data Analysis with Python"
   ]
  },
  {
   "cell_type": "markdown",
   "metadata": {},
   "source": [
    "## Overview\n",
    "\n",
    "In this project, you will step into the shoes of an entry-level data analyst at an online retail company, helping interpret real-world data to help make a key business decision."
   ]
  },
  {
   "cell_type": "markdown",
   "metadata": {},
   "source": [
    "## Case Study\n",
    "In this project, you will be working with transactional data from an online retail store. The dataset contains information about customer purchases, including product details, quantities, prices, and timestamps. Your task is to explore and analyze this dataset to gain insights into the store's sales trends, customer behavior, and popular products. \n",
    "\n",
    "By conducting exploratory data analysis, you will identify patterns, outliers, and correlations in the data, allowing you to make data-driven decisions and recommendations to optimize the store's operations and improve customer satisfaction. Through visualizations and statistical analysis, you will uncover key trends, such as the busiest sales months, best-selling products, and the store's most valuable customers. Ultimately, this project aims to provide actionable insights that can drive strategic business decisions and enhance the store's overall performance in the competitive online retail market.\n",
    "\n",
    "## Prerequisites\n",
    "\n",
    "Before starting this project, you should have some basic knowledge of Python programming and Pandas. In addition, you may want to use the following packages in your Python environment:\n",
    "\n",
    "- pandas\n",
    "- numpy\n",
    "- seaborn\n",
    "- matplotlib\n",
    "\n",
    "These packages should already be installed in Coursera's Jupyter Notebook environment, however if you'd like to install additional packages that are not included in this environment or are working off platform you can install additional packages using `!pip install packagename` within a notebook cell such as:\n",
    "\n",
    "- `!pip install pandas`\n",
    "- `!pip install matplotlib`"
   ]
  },
  {
   "cell_type": "markdown",
   "metadata": {},
   "source": [
    "## Project Objectives\n",
    "1. Describe data to answer key questions to uncover insights\n",
    "2. Gain valuable insights that will help improve online retail performance\n",
    "3. Provide analytic insights and data-driven recommendations"
   ]
  },
  {
   "cell_type": "markdown",
   "metadata": {},
   "source": [
    "## Dataset\n",
    "\n",
    "The dataset you will be working with is the \"Online Retail\" dataset. It contains transactional data of an online retail store from 2010 to 2011. The dataset is available as a .xlsx file named `Online Retail.xlsx`. This data file is already included in the Coursera Jupyter Notebook environment, however if you are working off-platform it can also be downloaded [here](https://archive.ics.uci.edu/ml/machine-learning-databases/00352/Online%20Retail.xlsx).\n",
    "\n",
    "The dataset contains the following columns:\n",
    "\n",
    "- InvoiceNo: Invoice number of the transaction\n",
    "- StockCode: Unique code of the product\n",
    "- Description: Description of the product\n",
    "- Quantity: Quantity of the product in the transaction\n",
    "- InvoiceDate: Date and time of the transaction\n",
    "- UnitPrice: Unit price of the product\n",
    "- CustomerID: Unique identifier of the customer\n",
    "- Country: Country where the transaction occurred"
   ]
  },
  {
   "cell_type": "markdown",
   "metadata": {},
   "source": [
    "## Tasks\n",
    "\n",
    "You may explore this dataset in any way you would like - however if you'd like some help getting started, here are a few ideas:\n",
    "\n",
    "1. Load the dataset into a Pandas DataFrame and display the first few rows to get an overview of the data.\n",
    "2. Perform data cleaning by handling missing values, if any, and removing any redundant or unnecessary columns.\n",
    "3. Explore the basic statistics of the dataset, including measures of central tendency and dispersion.\n",
    "4. Perform data visualization to gain insights into the dataset. Generate appropriate plots, such as histograms, scatter plots, or bar plots, to visualize different aspects of the data.\n",
    "5. Analyze the sales trends over time. Identify the busiest months and days of the week in terms of sales.\n",
    "6. Explore the top-selling products and countries based on the quantity sold.\n",
    "7. Identify any outliers or anomalies in the dataset and discuss their potential impact on the analysis.\n",
    "8. Draw conclusions and summarize your findings from the exploratory data analysis."
   ]
  },
  {
   "cell_type": "markdown",
   "metadata": {},
   "source": [
    "## Task 1: Load the Data"
   ]
  },
  {
   "cell_type": "code",
   "execution_count": 1,
   "metadata": {},
   "outputs": [
    {
     "name": "stdout",
     "output_type": "stream",
     "text": [
      "  InvoiceNo StockCode                          Description  Quantity  \\\n",
      "0    536365    85123A   WHITE HANGING HEART T-LIGHT HOLDER         6   \n",
      "1    536365     71053                  WHITE METAL LANTERN         6   \n",
      "2    536365    84406B       CREAM CUPID HEARTS COAT HANGER         8   \n",
      "3    536365    84029G  KNITTED UNION FLAG HOT WATER BOTTLE         6   \n",
      "4    536365    84029E       RED WOOLLY HOTTIE WHITE HEART.         6   \n",
      "\n",
      "          InvoiceDate  UnitPrice  CustomerID         Country  \n",
      "0 2010-12-01 08:26:00       2.55     17850.0  United Kingdom  \n",
      "1 2010-12-01 08:26:00       3.39     17850.0  United Kingdom  \n",
      "2 2010-12-01 08:26:00       2.75     17850.0  United Kingdom  \n",
      "3 2010-12-01 08:26:00       3.39     17850.0  United Kingdom  \n",
      "4 2010-12-01 08:26:00       3.39     17850.0  United Kingdom  \n"
     ]
    }
   ],
   "source": [
    "import pandas as pd\n",
    "import requests\n",
    "\n",
    "# Step 1: Download the dataset\n",
    "url = \"https://archive.ics.uci.edu/ml/machine-learning-databases/00352/Online%20Retail.xlsx\"\n",
    "response = requests.get(url)\n",
    "\n",
    "# Save the content to an Excel file\n",
    "with open('Online_Retail.xlsx', 'wb') as file:\n",
    "    file.write(response.content)\n",
    "\n",
    "# Step 2: Load the dataset into a Pandas DataFrame\n",
    "df = pd.read_excel('Online_Retail.xlsx')\n",
    "\n",
    "# Save it as a CSV file\n",
    "df.to_csv('Online_Retail.csv', index=False)\n",
    "\n",
    "# Show the first few rows of the DataFrame to verify\n",
    "print(df.head())"
   ]
  },
  {
   "cell_type": "markdown",
   "metadata": {},
   "source": [
    "## Reading Data  "
   ]
  },
  {
   "cell_type": "code",
   "execution_count": 2,
   "metadata": {},
   "outputs": [
    {
     "data": {
      "text/html": [
       "<div>\n",
       "<style scoped>\n",
       "    .dataframe tbody tr th:only-of-type {\n",
       "        vertical-align: middle;\n",
       "    }\n",
       "\n",
       "    .dataframe tbody tr th {\n",
       "        vertical-align: top;\n",
       "    }\n",
       "\n",
       "    .dataframe thead th {\n",
       "        text-align: right;\n",
       "    }\n",
       "</style>\n",
       "<table border=\"1\" class=\"dataframe\">\n",
       "  <thead>\n",
       "    <tr style=\"text-align: right;\">\n",
       "      <th></th>\n",
       "      <th>InvoiceNo</th>\n",
       "      <th>StockCode</th>\n",
       "      <th>Description</th>\n",
       "      <th>Quantity</th>\n",
       "      <th>InvoiceDate</th>\n",
       "      <th>UnitPrice</th>\n",
       "      <th>CustomerID</th>\n",
       "      <th>Country</th>\n",
       "    </tr>\n",
       "  </thead>\n",
       "  <tbody>\n",
       "    <tr>\n",
       "      <th>0</th>\n",
       "      <td>536365</td>\n",
       "      <td>85123A</td>\n",
       "      <td>WHITE HANGING HEART T-LIGHT HOLDER</td>\n",
       "      <td>6</td>\n",
       "      <td>2010-12-01 08:26:00</td>\n",
       "      <td>2.55</td>\n",
       "      <td>17850.0</td>\n",
       "      <td>United Kingdom</td>\n",
       "    </tr>\n",
       "    <tr>\n",
       "      <th>1</th>\n",
       "      <td>536365</td>\n",
       "      <td>71053</td>\n",
       "      <td>WHITE METAL LANTERN</td>\n",
       "      <td>6</td>\n",
       "      <td>2010-12-01 08:26:00</td>\n",
       "      <td>3.39</td>\n",
       "      <td>17850.0</td>\n",
       "      <td>United Kingdom</td>\n",
       "    </tr>\n",
       "    <tr>\n",
       "      <th>2</th>\n",
       "      <td>536365</td>\n",
       "      <td>84406B</td>\n",
       "      <td>CREAM CUPID HEARTS COAT HANGER</td>\n",
       "      <td>8</td>\n",
       "      <td>2010-12-01 08:26:00</td>\n",
       "      <td>2.75</td>\n",
       "      <td>17850.0</td>\n",
       "      <td>United Kingdom</td>\n",
       "    </tr>\n",
       "    <tr>\n",
       "      <th>3</th>\n",
       "      <td>536365</td>\n",
       "      <td>84029G</td>\n",
       "      <td>KNITTED UNION FLAG HOT WATER BOTTLE</td>\n",
       "      <td>6</td>\n",
       "      <td>2010-12-01 08:26:00</td>\n",
       "      <td>3.39</td>\n",
       "      <td>17850.0</td>\n",
       "      <td>United Kingdom</td>\n",
       "    </tr>\n",
       "    <tr>\n",
       "      <th>4</th>\n",
       "      <td>536365</td>\n",
       "      <td>84029E</td>\n",
       "      <td>RED WOOLLY HOTTIE WHITE HEART.</td>\n",
       "      <td>6</td>\n",
       "      <td>2010-12-01 08:26:00</td>\n",
       "      <td>3.39</td>\n",
       "      <td>17850.0</td>\n",
       "      <td>United Kingdom</td>\n",
       "    </tr>\n",
       "  </tbody>\n",
       "</table>\n",
       "</div>"
      ],
      "text/plain": [
       "  InvoiceNo StockCode                          Description  Quantity  \\\n",
       "0    536365    85123A   WHITE HANGING HEART T-LIGHT HOLDER         6   \n",
       "1    536365     71053                  WHITE METAL LANTERN         6   \n",
       "2    536365    84406B       CREAM CUPID HEARTS COAT HANGER         8   \n",
       "3    536365    84029G  KNITTED UNION FLAG HOT WATER BOTTLE         6   \n",
       "4    536365    84029E       RED WOOLLY HOTTIE WHITE HEART.         6   \n",
       "\n",
       "          InvoiceDate  UnitPrice  CustomerID         Country  \n",
       "0 2010-12-01 08:26:00       2.55     17850.0  United Kingdom  \n",
       "1 2010-12-01 08:26:00       3.39     17850.0  United Kingdom  \n",
       "2 2010-12-01 08:26:00       2.75     17850.0  United Kingdom  \n",
       "3 2010-12-01 08:26:00       3.39     17850.0  United Kingdom  \n",
       "4 2010-12-01 08:26:00       3.39     17850.0  United Kingdom  "
      ]
     },
     "execution_count": 2,
     "metadata": {},
     "output_type": "execute_result"
    }
   ],
   "source": [
    "df.head()"
   ]
  },
  {
   "cell_type": "code",
   "execution_count": 3,
   "metadata": {
    "scrolled": true
   },
   "outputs": [
    {
     "data": {
      "text/plain": [
       "(541909, 8)"
      ]
     },
     "execution_count": 3,
     "metadata": {},
     "output_type": "execute_result"
    }
   ],
   "source": [
    "df.shape"
   ]
  },
  {
   "cell_type": "code",
   "execution_count": 5,
   "metadata": {},
   "outputs": [
    {
     "data": {
      "text/plain": [
       "InvoiceNo              object\n",
       "StockCode              object\n",
       "Description            object\n",
       "Quantity                int64\n",
       "InvoiceDate    datetime64[ns]\n",
       "UnitPrice             float64\n",
       "CustomerID            float64\n",
       "Country                object\n",
       "dtype: object"
      ]
     },
     "execution_count": 5,
     "metadata": {},
     "output_type": "execute_result"
    }
   ],
   "source": [
    "df.dtypes"
   ]
  },
  {
   "cell_type": "markdown",
   "metadata": {},
   "source": [
    "## Data Cleaning"
   ]
  },
  {
   "cell_type": "code",
   "execution_count": 8,
   "metadata": {},
   "outputs": [
    {
     "name": "stdout",
     "output_type": "stream",
     "text": [
      "number of duplicate rows :  (5268, 8)\n"
     ]
    }
   ],
   "source": [
    "duplicate_rows_df = df[df.duplicated()]\n",
    "print(\"number of duplicate rows : \", duplicate_rows_df.shape)"
   ]
  },
  {
   "cell_type": "code",
   "execution_count": 9,
   "metadata": {},
   "outputs": [
    {
     "data": {
      "text/plain": [
       "InvoiceNo      541909\n",
       "StockCode      541909\n",
       "Description    540455\n",
       "Quantity       541909\n",
       "InvoiceDate    541909\n",
       "UnitPrice      541909\n",
       "CustomerID     406829\n",
       "Country        541909\n",
       "dtype: int64"
      ]
     },
     "execution_count": 9,
     "metadata": {},
     "output_type": "execute_result"
    }
   ],
   "source": [
    "df.count()"
   ]
  },
  {
   "cell_type": "code",
   "execution_count": 12,
   "metadata": {},
   "outputs": [
    {
     "data": {
      "text/html": [
       "<div>\n",
       "<style scoped>\n",
       "    .dataframe tbody tr th:only-of-type {\n",
       "        vertical-align: middle;\n",
       "    }\n",
       "\n",
       "    .dataframe tbody tr th {\n",
       "        vertical-align: top;\n",
       "    }\n",
       "\n",
       "    .dataframe thead th {\n",
       "        text-align: right;\n",
       "    }\n",
       "</style>\n",
       "<table border=\"1\" class=\"dataframe\">\n",
       "  <thead>\n",
       "    <tr style=\"text-align: right;\">\n",
       "      <th></th>\n",
       "      <th>InvoiceNo</th>\n",
       "      <th>StockCode</th>\n",
       "      <th>Description</th>\n",
       "      <th>Quantity</th>\n",
       "      <th>InvoiceDate</th>\n",
       "      <th>UnitPrice</th>\n",
       "      <th>CustomerID</th>\n",
       "      <th>Country</th>\n",
       "    </tr>\n",
       "  </thead>\n",
       "  <tbody>\n",
       "    <tr>\n",
       "      <th>0</th>\n",
       "      <td>536365</td>\n",
       "      <td>85123A</td>\n",
       "      <td>WHITE HANGING HEART T-LIGHT HOLDER</td>\n",
       "      <td>6</td>\n",
       "      <td>2010-12-01 08:26:00</td>\n",
       "      <td>2.55</td>\n",
       "      <td>17850.0</td>\n",
       "      <td>United Kingdom</td>\n",
       "    </tr>\n",
       "    <tr>\n",
       "      <th>1</th>\n",
       "      <td>536365</td>\n",
       "      <td>71053</td>\n",
       "      <td>WHITE METAL LANTERN</td>\n",
       "      <td>6</td>\n",
       "      <td>2010-12-01 08:26:00</td>\n",
       "      <td>3.39</td>\n",
       "      <td>17850.0</td>\n",
       "      <td>United Kingdom</td>\n",
       "    </tr>\n",
       "    <tr>\n",
       "      <th>2</th>\n",
       "      <td>536365</td>\n",
       "      <td>84406B</td>\n",
       "      <td>CREAM CUPID HEARTS COAT HANGER</td>\n",
       "      <td>8</td>\n",
       "      <td>2010-12-01 08:26:00</td>\n",
       "      <td>2.75</td>\n",
       "      <td>17850.0</td>\n",
       "      <td>United Kingdom</td>\n",
       "    </tr>\n",
       "    <tr>\n",
       "      <th>3</th>\n",
       "      <td>536365</td>\n",
       "      <td>84029G</td>\n",
       "      <td>KNITTED UNION FLAG HOT WATER BOTTLE</td>\n",
       "      <td>6</td>\n",
       "      <td>2010-12-01 08:26:00</td>\n",
       "      <td>3.39</td>\n",
       "      <td>17850.0</td>\n",
       "      <td>United Kingdom</td>\n",
       "    </tr>\n",
       "    <tr>\n",
       "      <th>4</th>\n",
       "      <td>536365</td>\n",
       "      <td>84029E</td>\n",
       "      <td>RED WOOLLY HOTTIE WHITE HEART.</td>\n",
       "      <td>6</td>\n",
       "      <td>2010-12-01 08:26:00</td>\n",
       "      <td>3.39</td>\n",
       "      <td>17850.0</td>\n",
       "      <td>United Kingdom</td>\n",
       "    </tr>\n",
       "  </tbody>\n",
       "</table>\n",
       "</div>"
      ],
      "text/plain": [
       "  InvoiceNo StockCode                          Description  Quantity  \\\n",
       "0    536365    85123A   WHITE HANGING HEART T-LIGHT HOLDER         6   \n",
       "1    536365     71053                  WHITE METAL LANTERN         6   \n",
       "2    536365    84406B       CREAM CUPID HEARTS COAT HANGER         8   \n",
       "3    536365    84029G  KNITTED UNION FLAG HOT WATER BOTTLE         6   \n",
       "4    536365    84029E       RED WOOLLY HOTTIE WHITE HEART.         6   \n",
       "\n",
       "          InvoiceDate  UnitPrice  CustomerID         Country  \n",
       "0 2010-12-01 08:26:00       2.55     17850.0  United Kingdom  \n",
       "1 2010-12-01 08:26:00       3.39     17850.0  United Kingdom  \n",
       "2 2010-12-01 08:26:00       2.75     17850.0  United Kingdom  \n",
       "3 2010-12-01 08:26:00       3.39     17850.0  United Kingdom  \n",
       "4 2010-12-01 08:26:00       3.39     17850.0  United Kingdom  "
      ]
     },
     "execution_count": 12,
     "metadata": {},
     "output_type": "execute_result"
    }
   ],
   "source": [
    "df = df.drop_duplicates()\n",
    "df.head()"
   ]
  },
  {
   "cell_type": "code",
   "execution_count": 13,
   "metadata": {},
   "outputs": [
    {
     "data": {
      "text/plain": [
       "(536641, 8)"
      ]
     },
     "execution_count": 13,
     "metadata": {},
     "output_type": "execute_result"
    }
   ],
   "source": [
    "df.shape"
   ]
  },
  {
   "cell_type": "code",
   "execution_count": 14,
   "metadata": {},
   "outputs": [
    {
     "data": {
      "text/plain": [
       "InvoiceNo      536641\n",
       "StockCode      536641\n",
       "Description    535187\n",
       "Quantity       536641\n",
       "InvoiceDate    536641\n",
       "UnitPrice      536641\n",
       "CustomerID     401604\n",
       "Country        536641\n",
       "dtype: int64"
      ]
     },
     "execution_count": 14,
     "metadata": {},
     "output_type": "execute_result"
    }
   ],
   "source": [
    "df.count()"
   ]
  },
  {
   "cell_type": "code",
   "execution_count": 15,
   "metadata": {},
   "outputs": [
    {
     "data": {
      "text/plain": [
       "InvoiceNo           0\n",
       "StockCode           0\n",
       "Description      1454\n",
       "Quantity            0\n",
       "InvoiceDate         0\n",
       "UnitPrice           0\n",
       "CustomerID     135037\n",
       "Country             0\n",
       "dtype: int64"
      ]
     },
     "execution_count": 15,
     "metadata": {},
     "output_type": "execute_result"
    }
   ],
   "source": [
    "df.isnull().sum()"
   ]
  },
  {
   "cell_type": "code",
   "execution_count": 19,
   "metadata": {},
   "outputs": [
    {
     "data": {
      "text/html": [
       "<div>\n",
       "<style scoped>\n",
       "    .dataframe tbody tr th:only-of-type {\n",
       "        vertical-align: middle;\n",
       "    }\n",
       "\n",
       "    .dataframe tbody tr th {\n",
       "        vertical-align: top;\n",
       "    }\n",
       "\n",
       "    .dataframe thead th {\n",
       "        text-align: right;\n",
       "    }\n",
       "</style>\n",
       "<table border=\"1\" class=\"dataframe\">\n",
       "  <thead>\n",
       "    <tr style=\"text-align: right;\">\n",
       "      <th></th>\n",
       "      <th>InvoiceNo</th>\n",
       "      <th>StockCode</th>\n",
       "      <th>Description</th>\n",
       "      <th>Quantity</th>\n",
       "      <th>InvoiceDate</th>\n",
       "      <th>UnitPrice</th>\n",
       "      <th>CustomerID</th>\n",
       "      <th>Country</th>\n",
       "    </tr>\n",
       "  </thead>\n",
       "  <tbody>\n",
       "    <tr>\n",
       "      <th>541904</th>\n",
       "      <td>581587</td>\n",
       "      <td>22613</td>\n",
       "      <td>PACK OF 20 SPACEBOY NAPKINS</td>\n",
       "      <td>12</td>\n",
       "      <td>2011-12-09 12:50:00</td>\n",
       "      <td>0.85</td>\n",
       "      <td>12680.0</td>\n",
       "      <td>France</td>\n",
       "    </tr>\n",
       "    <tr>\n",
       "      <th>541905</th>\n",
       "      <td>581587</td>\n",
       "      <td>22899</td>\n",
       "      <td>CHILDREN'S APRON DOLLY GIRL</td>\n",
       "      <td>6</td>\n",
       "      <td>2011-12-09 12:50:00</td>\n",
       "      <td>2.10</td>\n",
       "      <td>12680.0</td>\n",
       "      <td>France</td>\n",
       "    </tr>\n",
       "    <tr>\n",
       "      <th>541906</th>\n",
       "      <td>581587</td>\n",
       "      <td>23254</td>\n",
       "      <td>CHILDRENS CUTLERY DOLLY GIRL</td>\n",
       "      <td>4</td>\n",
       "      <td>2011-12-09 12:50:00</td>\n",
       "      <td>4.15</td>\n",
       "      <td>12680.0</td>\n",
       "      <td>France</td>\n",
       "    </tr>\n",
       "    <tr>\n",
       "      <th>541907</th>\n",
       "      <td>581587</td>\n",
       "      <td>23255</td>\n",
       "      <td>CHILDRENS CUTLERY CIRCUS PARADE</td>\n",
       "      <td>4</td>\n",
       "      <td>2011-12-09 12:50:00</td>\n",
       "      <td>4.15</td>\n",
       "      <td>12680.0</td>\n",
       "      <td>France</td>\n",
       "    </tr>\n",
       "    <tr>\n",
       "      <th>541908</th>\n",
       "      <td>581587</td>\n",
       "      <td>22138</td>\n",
       "      <td>BAKING SET 9 PIECE RETROSPOT</td>\n",
       "      <td>3</td>\n",
       "      <td>2011-12-09 12:50:00</td>\n",
       "      <td>4.95</td>\n",
       "      <td>12680.0</td>\n",
       "      <td>France</td>\n",
       "    </tr>\n",
       "  </tbody>\n",
       "</table>\n",
       "</div>"
      ],
      "text/plain": [
       "       InvoiceNo StockCode                      Description  Quantity  \\\n",
       "541904    581587     22613      PACK OF 20 SPACEBOY NAPKINS        12   \n",
       "541905    581587     22899     CHILDREN'S APRON DOLLY GIRL          6   \n",
       "541906    581587     23254    CHILDRENS CUTLERY DOLLY GIRL          4   \n",
       "541907    581587     23255  CHILDRENS CUTLERY CIRCUS PARADE         4   \n",
       "541908    581587     22138    BAKING SET 9 PIECE RETROSPOT          3   \n",
       "\n",
       "               InvoiceDate  UnitPrice  CustomerID Country  \n",
       "541904 2011-12-09 12:50:00       0.85     12680.0  France  \n",
       "541905 2011-12-09 12:50:00       2.10     12680.0  France  \n",
       "541906 2011-12-09 12:50:00       4.15     12680.0  France  \n",
       "541907 2011-12-09 12:50:00       4.15     12680.0  France  \n",
       "541908 2011-12-09 12:50:00       4.95     12680.0  France  "
      ]
     },
     "execution_count": 19,
     "metadata": {},
     "output_type": "execute_result"
    }
   ],
   "source": [
    "df.tail()"
   ]
  },
  {
   "cell_type": "markdown",
   "metadata": {},
   "source": [
    "## Droping missing values"
   ]
  },
  {
   "cell_type": "code",
   "execution_count": 20,
   "metadata": {},
   "outputs": [],
   "source": [
    "df = df.dropna()"
   ]
  },
  {
   "cell_type": "code",
   "execution_count": 21,
   "metadata": {},
   "outputs": [
    {
     "data": {
      "text/plain": [
       "InvoiceNo      401604\n",
       "StockCode      401604\n",
       "Description    401604\n",
       "Quantity       401604\n",
       "InvoiceDate    401604\n",
       "UnitPrice      401604\n",
       "CustomerID     401604\n",
       "Country        401604\n",
       "dtype: int64"
      ]
     },
     "execution_count": 21,
     "metadata": {},
     "output_type": "execute_result"
    }
   ],
   "source": [
    "df.count()"
   ]
  },
  {
   "cell_type": "code",
   "execution_count": 22,
   "metadata": {},
   "outputs": [
    {
     "data": {
      "text/plain": [
       "InvoiceNo      0\n",
       "StockCode      0\n",
       "Description    0\n",
       "Quantity       0\n",
       "InvoiceDate    0\n",
       "UnitPrice      0\n",
       "CustomerID     0\n",
       "Country        0\n",
       "dtype: int64"
      ]
     },
     "execution_count": 22,
     "metadata": {},
     "output_type": "execute_result"
    }
   ],
   "source": [
    "df.isnull().sum()"
   ]
  },
  {
   "cell_type": "markdown",
   "metadata": {},
   "source": [
    "## Detecting and Droping Outliers"
   ]
  },
  {
   "cell_type": "code",
   "execution_count": 23,
   "metadata": {},
   "outputs": [
    {
     "data": {
      "text/html": [
       "<div>\n",
       "<style scoped>\n",
       "    .dataframe tbody tr th:only-of-type {\n",
       "        vertical-align: middle;\n",
       "    }\n",
       "\n",
       "    .dataframe tbody tr th {\n",
       "        vertical-align: top;\n",
       "    }\n",
       "\n",
       "    .dataframe thead th {\n",
       "        text-align: right;\n",
       "    }\n",
       "</style>\n",
       "<table border=\"1\" class=\"dataframe\">\n",
       "  <thead>\n",
       "    <tr style=\"text-align: right;\">\n",
       "      <th></th>\n",
       "      <th>Quantity</th>\n",
       "      <th>UnitPrice</th>\n",
       "      <th>CustomerID</th>\n",
       "    </tr>\n",
       "  </thead>\n",
       "  <tbody>\n",
       "    <tr>\n",
       "      <th>count</th>\n",
       "      <td>401604.000000</td>\n",
       "      <td>401604.000000</td>\n",
       "      <td>401604.000000</td>\n",
       "    </tr>\n",
       "    <tr>\n",
       "      <th>mean</th>\n",
       "      <td>12.183273</td>\n",
       "      <td>3.474064</td>\n",
       "      <td>15281.160818</td>\n",
       "    </tr>\n",
       "    <tr>\n",
       "      <th>std</th>\n",
       "      <td>250.283037</td>\n",
       "      <td>69.764035</td>\n",
       "      <td>1714.006089</td>\n",
       "    </tr>\n",
       "    <tr>\n",
       "      <th>min</th>\n",
       "      <td>-80995.000000</td>\n",
       "      <td>0.000000</td>\n",
       "      <td>12346.000000</td>\n",
       "    </tr>\n",
       "    <tr>\n",
       "      <th>25%</th>\n",
       "      <td>2.000000</td>\n",
       "      <td>1.250000</td>\n",
       "      <td>13939.000000</td>\n",
       "    </tr>\n",
       "    <tr>\n",
       "      <th>50%</th>\n",
       "      <td>5.000000</td>\n",
       "      <td>1.950000</td>\n",
       "      <td>15145.000000</td>\n",
       "    </tr>\n",
       "    <tr>\n",
       "      <th>75%</th>\n",
       "      <td>12.000000</td>\n",
       "      <td>3.750000</td>\n",
       "      <td>16784.000000</td>\n",
       "    </tr>\n",
       "    <tr>\n",
       "      <th>max</th>\n",
       "      <td>80995.000000</td>\n",
       "      <td>38970.000000</td>\n",
       "      <td>18287.000000</td>\n",
       "    </tr>\n",
       "  </tbody>\n",
       "</table>\n",
       "</div>"
      ],
      "text/plain": [
       "            Quantity      UnitPrice     CustomerID\n",
       "count  401604.000000  401604.000000  401604.000000\n",
       "mean       12.183273       3.474064   15281.160818\n",
       "std       250.283037      69.764035    1714.006089\n",
       "min    -80995.000000       0.000000   12346.000000\n",
       "25%         2.000000       1.250000   13939.000000\n",
       "50%         5.000000       1.950000   15145.000000\n",
       "75%        12.000000       3.750000   16784.000000\n",
       "max     80995.000000   38970.000000   18287.000000"
      ]
     },
     "execution_count": 23,
     "metadata": {},
     "output_type": "execute_result"
    }
   ],
   "source": [
    "df.describe()"
   ]
  },
  {
   "cell_type": "code",
   "execution_count": 24,
   "metadata": {},
   "outputs": [
    {
     "data": {
      "text/plain": [
       "<matplotlib.axes._subplots.AxesSubplot at 0x74de6ed87550>"
      ]
     },
     "execution_count": 24,
     "metadata": {},
     "output_type": "execute_result"
    },
    {
     "data": {
      "image/png": "[encoded data removed]",
      "text/plain": [
       "<Figure size 432x288 with 1 Axes>"
      ]
     },
     "metadata": {
      "needs_background": "light"
     },
     "output_type": "display_data"
    }
   ],
   "source": [
    "import seaborn as sns\n",
    "sns.boxplot(x=df['Quantity'])"
   ]
  },
  {
   "cell_type": "code",
   "execution_count": 25,
   "metadata": {},
   "outputs": [
    {
     "data": {
      "text/plain": [
       "<matplotlib.axes._subplots.AxesSubplot at 0x74de6bff6910>"
      ]
     },
     "execution_count": 25,
     "metadata": {},
     "output_type": "execute_result"
    },
    {
     "data": {
      "image/png": "[encoded data removed]",
      "text/plain": [
       "<Figure size 432x288 with 1 Axes>"
      ]
     },
     "metadata": {
      "needs_background": "light"
     },
     "output_type": "display_data"
    }
   ],
   "source": [
    "sns.boxplot(x=df['UnitPrice'])"
   ]
  },
  {
   "cell_type": "code",
   "execution_count": 33,
   "metadata": {},
   "outputs": [],
   "source": [
    "Q1 = df['Quantity'].quantile(0.25)\n",
    "Q3 = df['Quantity'].quantile(0.75)\n",
    "\n",
    "# Calculate the Interquartile Range (IQR)\n",
    "IQR = Q3 - Q1\n",
    "\n",
    "# Define lower and upper bounds for outliers\n",
    "lower_bound = Q1 - 1.5 * IQR\n",
    "upper_bound = Q3 + 1.5 * IQR\n",
    "\n",
    "# Filter the DataFrame to keep only rows within the IQR bounds\n",
    "df_cleaned = df[(df['Quantity'] >= lower_bound) & (df['Quantity'] <= upper_bound)]"
   ]
  },
  {
   "cell_type": "code",
   "execution_count": 34,
   "metadata": {},
   "outputs": [
    {
     "data": {
      "text/plain": [
       "(374958, 8)"
      ]
     },
     "execution_count": 34,
     "metadata": {},
     "output_type": "execute_result"
    }
   ],
   "source": [
    "df_cleaned.shape"
   ]
  },
  {
   "cell_type": "code",
   "execution_count": 37,
   "metadata": {},
   "outputs": [
    {
     "data": {
      "text/plain": [
       "<matplotlib.axes._subplots.AxesSubplot at 0x74de6f9ec090>"
      ]
     },
     "execution_count": 37,
     "metadata": {},
     "output_type": "execute_result"
    },
    {
     "data": {
      "image/png": "[encoded data removed]",
      "text/plain": [
       "<Figure size 432x288 with 1 Axes>"
      ]
     },
     "metadata": {
      "needs_background": "light"
     },
     "output_type": "display_data"
    }
   ],
   "source": [
    "sns.boxplot(x = df_cleaned['Quantity'])"
   ]
  },
  {
   "cell_type": "code",
   "execution_count": 38,
   "metadata": {},
   "outputs": [
    {
     "data": {
      "text/html": [
       "<div>\n",
       "<style scoped>\n",
       "    .dataframe tbody tr th:only-of-type {\n",
       "        vertical-align: middle;\n",
       "    }\n",
       "\n",
       "    .dataframe tbody tr th {\n",
       "        vertical-align: top;\n",
       "    }\n",
       "\n",
       "    .dataframe thead th {\n",
       "        text-align: right;\n",
       "    }\n",
       "</style>\n",
       "<table border=\"1\" class=\"dataframe\">\n",
       "  <thead>\n",
       "    <tr style=\"text-align: right;\">\n",
       "      <th></th>\n",
       "      <th>Quantity</th>\n",
       "      <th>UnitPrice</th>\n",
       "      <th>CustomerID</th>\n",
       "    </tr>\n",
       "  </thead>\n",
       "  <tbody>\n",
       "    <tr>\n",
       "      <th>count</th>\n",
       "      <td>374958.000000</td>\n",
       "      <td>374958.000000</td>\n",
       "      <td>374958.000000</td>\n",
       "    </tr>\n",
       "    <tr>\n",
       "      <th>mean</th>\n",
       "      <td>6.880915</td>\n",
       "      <td>3.614262</td>\n",
       "      <td>15296.014255</td>\n",
       "    </tr>\n",
       "    <tr>\n",
       "      <th>std</th>\n",
       "      <td>6.776924</td>\n",
       "      <td>72.189462</td>\n",
       "      <td>1712.757792</td>\n",
       "    </tr>\n",
       "    <tr>\n",
       "      <th>min</th>\n",
       "      <td>-13.000000</td>\n",
       "      <td>0.000000</td>\n",
       "      <td>12347.000000</td>\n",
       "    </tr>\n",
       "    <tr>\n",
       "      <th>25%</th>\n",
       "      <td>2.000000</td>\n",
       "      <td>1.250000</td>\n",
       "      <td>13969.000000</td>\n",
       "    </tr>\n",
       "    <tr>\n",
       "      <th>50%</th>\n",
       "      <td>4.000000</td>\n",
       "      <td>1.950000</td>\n",
       "      <td>15159.000000</td>\n",
       "    </tr>\n",
       "    <tr>\n",
       "      <th>75%</th>\n",
       "      <td>12.000000</td>\n",
       "      <td>3.750000</td>\n",
       "      <td>16800.000000</td>\n",
       "    </tr>\n",
       "    <tr>\n",
       "      <th>max</th>\n",
       "      <td>27.000000</td>\n",
       "      <td>38970.000000</td>\n",
       "      <td>18287.000000</td>\n",
       "    </tr>\n",
       "  </tbody>\n",
       "</table>\n",
       "</div>"
      ],
      "text/plain": [
       "            Quantity      UnitPrice     CustomerID\n",
       "count  374958.000000  374958.000000  374958.000000\n",
       "mean        6.880915       3.614262   15296.014255\n",
       "std         6.776924      72.189462    1712.757792\n",
       "min       -13.000000       0.000000   12347.000000\n",
       "25%         2.000000       1.250000   13969.000000\n",
       "50%         4.000000       1.950000   15159.000000\n",
       "75%        12.000000       3.750000   16800.000000\n",
       "max        27.000000   38970.000000   18287.000000"
      ]
     },
     "execution_count": 38,
     "metadata": {},
     "output_type": "execute_result"
    }
   ],
   "source": [
    "df_cleaned.describe()"
   ]
  },
  {
   "cell_type": "code",
   "execution_count": 39,
   "metadata": {},
   "outputs": [
    {
     "name": "stdout",
     "output_type": "stream",
     "text": [
      "  InvoiceNo StockCode                          Description  Quantity  \\\n",
      "0    536365    85123A   WHITE HANGING HEART T-LIGHT HOLDER         6   \n",
      "1    536365     71053                  WHITE METAL LANTERN         6   \n",
      "2    536365    84406B       CREAM CUPID HEARTS COAT HANGER         8   \n",
      "3    536365    84029G  KNITTED UNION FLAG HOT WATER BOTTLE         6   \n",
      "4    536365    84029E       RED WOOLLY HOTTIE WHITE HEART.         6   \n",
      "\n",
      "          InvoiceDate  UnitPrice  CustomerID         Country  \n",
      "0 2010-12-01 08:26:00       2.55     17850.0  United Kingdom  \n",
      "1 2010-12-01 08:26:00       3.39     17850.0  United Kingdom  \n",
      "2 2010-12-01 08:26:00       2.75     17850.0  United Kingdom  \n",
      "3 2010-12-01 08:26:00       3.39     17850.0  United Kingdom  \n",
      "4 2010-12-01 08:26:00       3.39     17850.0  United Kingdom  \n"
     ]
    }
   ],
   "source": [
    "df_cleaned = df_cleaned[df_cleaned['Quantity'] >= 0]\n",
    "\n",
    "# Verify the cleaned dataset\n",
    "print(df_cleaned.head())"
   ]
  },
  {
   "cell_type": "code",
   "execution_count": 40,
   "metadata": {},
   "outputs": [
    {
     "data": {
      "text/plain": [
       "(367107, 8)"
      ]
     },
     "execution_count": 40,
     "metadata": {},
     "output_type": "execute_result"
    }
   ],
   "source": [
    "df_cleaned.shape"
   ]
  },
  {
   "cell_type": "code",
   "execution_count": 44,
   "metadata": {},
   "outputs": [
    {
     "data": {
      "text/html": [
       "<div>\n",
       "<style scoped>\n",
       "    .dataframe tbody tr th:only-of-type {\n",
       "        vertical-align: middle;\n",
       "    }\n",
       "\n",
       "    .dataframe tbody tr th {\n",
       "        vertical-align: top;\n",
       "    }\n",
       "\n",
       "    .dataframe thead th {\n",
       "        text-align: right;\n",
       "    }\n",
       "</style>\n",
       "<table border=\"1\" class=\"dataframe\">\n",
       "  <thead>\n",
       "    <tr style=\"text-align: right;\">\n",
       "      <th></th>\n",
       "      <th>Quantity</th>\n",
       "      <th>UnitPrice</th>\n",
       "      <th>CustomerID</th>\n",
       "    </tr>\n",
       "  </thead>\n",
       "  <tbody>\n",
       "    <tr>\n",
       "      <th>count</th>\n",
       "      <td>367107.000000</td>\n",
       "      <td>367107.000000</td>\n",
       "      <td>367107.000000</td>\n",
       "    </tr>\n",
       "    <tr>\n",
       "      <th>mean</th>\n",
       "      <td>7.094654</td>\n",
       "      <td>3.239735</td>\n",
       "      <td>15302.697279</td>\n",
       "    </tr>\n",
       "    <tr>\n",
       "      <th>std</th>\n",
       "      <td>6.670923</td>\n",
       "      <td>22.971365</td>\n",
       "      <td>1712.071260</td>\n",
       "    </tr>\n",
       "    <tr>\n",
       "      <th>min</th>\n",
       "      <td>1.000000</td>\n",
       "      <td>0.000000</td>\n",
       "      <td>12347.000000</td>\n",
       "    </tr>\n",
       "    <tr>\n",
       "      <th>25%</th>\n",
       "      <td>2.000000</td>\n",
       "      <td>1.250000</td>\n",
       "      <td>13975.000000</td>\n",
       "    </tr>\n",
       "    <tr>\n",
       "      <th>50%</th>\n",
       "      <td>4.000000</td>\n",
       "      <td>1.950000</td>\n",
       "      <td>15182.000000</td>\n",
       "    </tr>\n",
       "    <tr>\n",
       "      <th>75%</th>\n",
       "      <td>12.000000</td>\n",
       "      <td>3.750000</td>\n",
       "      <td>16807.000000</td>\n",
       "    </tr>\n",
       "    <tr>\n",
       "      <th>max</th>\n",
       "      <td>27.000000</td>\n",
       "      <td>8142.750000</td>\n",
       "      <td>18287.000000</td>\n",
       "    </tr>\n",
       "  </tbody>\n",
       "</table>\n",
       "</div>"
      ],
      "text/plain": [
       "            Quantity      UnitPrice     CustomerID\n",
       "count  367107.000000  367107.000000  367107.000000\n",
       "mean        7.094654       3.239735   15302.697279\n",
       "std         6.670923      22.971365    1712.071260\n",
       "min         1.000000       0.000000   12347.000000\n",
       "25%         2.000000       1.250000   13975.000000\n",
       "50%         4.000000       1.950000   15182.000000\n",
       "75%        12.000000       3.750000   16807.000000\n",
       "max        27.000000    8142.750000   18287.000000"
      ]
     },
     "execution_count": 44,
     "metadata": {},
     "output_type": "execute_result"
    }
   ],
   "source": [
    "df_cleaned.describe()"
   ]
  },
  {
   "cell_type": "code",
   "execution_count": 46,
   "metadata": {},
   "outputs": [
    {
     "data": {
      "text/plain": [
       "InvoiceNo      0\n",
       "StockCode      0\n",
       "Description    0\n",
       "Quantity       0\n",
       "InvoiceDate    0\n",
       "UnitPrice      0\n",
       "CustomerID     0\n",
       "Country        0\n",
       "dtype: int64"
      ]
     },
     "execution_count": 46,
     "metadata": {},
     "output_type": "execute_result"
    }
   ],
   "source": [
    "df_cleaned.isnull().sum()"
   ]
  },
  {
   "cell_type": "markdown",
   "metadata": {},
   "source": [
    "## Data Analysis "
   ]
  },
  {
   "cell_type": "code",
   "execution_count": 52,
   "metadata": {},
   "outputs": [
    {
     "data": {
      "text/plain": [
       "United Kingdom          329007\n",
       "Germany                   8504\n",
       "France                    7828\n",
       "EIRE                      6391\n",
       "Spain                     2374\n",
       "Belgium                   1954\n",
       "Switzerland               1649\n",
       "Portugal                  1371\n",
       "Norway                     914\n",
       "Netherlands                787\n",
       "Italy                      736\n",
       "Channel Islands            716\n",
       "Finland                    621\n",
       "Australia                  578\n",
       "Cyprus                     570\n",
       "Austria                    387\n",
       "Denmark                    325\n",
       "Poland                     314\n",
       "Sweden                     280\n",
       "Unspecified                239\n",
       "Israel                     215\n",
       "Iceland                    173\n",
       "Singapore                  171\n",
       "USA                        167\n",
       "Greece                     142\n",
       "Canada                     138\n",
       "Japan                      115\n",
       "Malta                      110\n",
       "United Arab Emirates        64\n",
       "European Community          60\n",
       "RSA                         58\n",
       "Lebanon                     45\n",
       "Brazil                      32\n",
       "Lithuania                   29\n",
       "Czech Republic              19\n",
       "Bahrain                     15\n",
       "Saudi Arabia                 9\n",
       "Name: Country, dtype: int64"
      ]
     },
     "execution_count": 52,
     "metadata": {},
     "output_type": "execute_result"
    }
   ],
   "source": [
    "df_cleaned['Country'].value_counts()"
   ]
  },
  {
   "cell_type": "code",
   "execution_count": 53,
   "metadata": {},
   "outputs": [
    {
     "data": {
      "text/plain": [
       "WHITE HANGING HEART T-LIGHT HOLDER    1668\n",
       "REGENCY CAKESTAND 3 TIER              1625\n",
       "JUMBO BAG RED RETROSPOT               1327\n",
       "PARTY BUNTING                         1271\n",
       "LUNCH BAG RED RETROSPOT               1195\n",
       "                                      ... \n",
       "CRYSTAL CHANDELIER T-LIGHT HOLDER        1\n",
       "RUBY GLASS CLUSTER EARRINGS              1\n",
       "SET 12 COLOURING PENCILS DOILEY          1\n",
       "BLOSSOM IMAGES SCRAP BOOK SET            1\n",
       "DROP DIAMANTE EARRINGS GREEN             1\n",
       "Name: Description, Length: 3853, dtype: int64"
      ]
     },
     "execution_count": 53,
     "metadata": {},
     "output_type": "execute_result"
    }
   ],
   "source": [
    "df_cleaned['Description'].value_counts()"
   ]
  },
  {
   "cell_type": "markdown",
   "metadata": {},
   "source": [
    "### Ploting Time series analysis"
   ]
  },
  {
   "cell_type": "code",
   "execution_count": 54,
   "metadata": {},
   "outputs": [
    {
     "data": {
      "image/png": "[encoded data removed]",
      "text/plain": [
       "<Figure size 864x432 with 1 Axes>"
      ]
     },
     "metadata": {
      "needs_background": "light"
     },
     "output_type": "display_data"
    }
   ],
   "source": [
    "import matplotlib.pyplot as plt\n",
    "import pandas as pd\n",
    "\n",
    "# Ensure the 'InvoiceDate' column is in datetime format\n",
    "df['InvoiceDate'] = pd.to_datetime(df['InvoiceDate'])\n",
    "\n",
    "# Calculate total sales for each transaction (Quantity * UnitPrice)\n",
    "df['TotalSales'] = df['Quantity'] * df['UnitPrice']\n",
    "\n",
    "# Group by date (or month, for monthly trends) and sum the sales\n",
    "# Here, we group by month\n",
    "df_monthly_sales = df.groupby(df['InvoiceDate'].dt.to_period('M'))['TotalSales'].sum()\n",
    "\n",
    "# Plot the time series of total sales\n",
    "plt.figure(figsize=(12, 6))\n",
    "df_monthly_sales.plot(kind='line', color='b', marker='o')\n",
    "\n",
    "plt.title('Monthly Sales Trends Over Time')\n",
    "plt.xlabel('Month')\n",
    "plt.ylabel('Total Sales')\n",
    "plt.xticks(rotation=45)\n",
    "plt.grid(True)\n",
    "plt.show()"
   ]
  },
  {
   "cell_type": "markdown",
   "metadata": {},
   "source": [
    "##### Nov was the best month for sale"
   ]
  },
  {
   "cell_type": "markdown",
   "metadata": {},
   "source": [
    "## Ploting sales on world map"
   ]
  },
  {
   "cell_type": "code",
   "execution_count": 60,
   "metadata": {
    "scrolled": false
   },
   "outputs": [
    {
     "name": "stdout",
     "output_type": "stream",
     "text": [
      "Requirement already satisfied: folium in /opt/conda/lib/python3.7/site-packages (0.16.0)\n",
      "Requirement already satisfied: jinja2>=2.9 in /opt/conda/lib/python3.7/site-packages (from folium) (3.1.5)\n",
      "Requirement already satisfied: numpy in /opt/conda/lib/python3.7/site-packages (from folium) (1.18.4)\n",
      "Requirement already satisfied: requests in /opt/conda/lib/python3.7/site-packages (from folium) (2.23.0)\n",
      "Requirement already satisfied: xyzservices in /opt/conda/lib/python3.7/site-packages (from folium) (2023.2.0)\n",
      "Requirement already satisfied: branca>=0.6.0 in /opt/conda/lib/python3.7/site-packages (from folium) (0.8.1)\n",
      "Requirement already satisfied: MarkupSafe>=2.0 in /opt/conda/lib/python3.7/site-packages (from jinja2>=2.9->folium) (2.1.5)\n",
      "Requirement already satisfied: urllib3!=1.25.0,!=1.25.1,<1.26,>=1.21.1 in /opt/conda/lib/python3.7/site-packages (from requests->folium) (1.25.9)\n",
      "Requirement already satisfied: certifi>=2017.4.17 in /opt/conda/lib/python3.7/site-packages (from requests->folium) (2020.4.5.1)\n",
      "Requirement already satisfied: idna<3,>=2.5 in /opt/conda/lib/python3.7/site-packages (from requests->folium) (2.9)\n",
      "Requirement already satisfied: chardet<4,>=3.0.2 in /opt/conda/lib/python3.7/site-packages (from requests->folium) (3.0.4)\n",
      "\u001b[33mWARNING: You are using pip version 21.3.1; however, version 24.0 is available.\n",
      "You should consider upgrading via the '/opt/conda/bin/python3 -m pip install --upgrade pip' command.\u001b[0m\n",
      "Requirement already satisfied: geopy in /opt/conda/lib/python3.7/site-packages (2.4.1)\n",
      "Requirement already satisfied: geographiclib<3,>=1.52 in /opt/conda/lib/python3.7/site-packages (from geopy) (2.0)\n",
      "\u001b[33mWARNING: You are using pip version 21.3.1; however, version 24.0 is available.\n",
      "You should consider upgrading via the '/opt/conda/bin/python3 -m pip install --upgrade pip' command.\u001b[0m\n"
     ]
    },
    {
     "data": {
      "text/html": [
       "<div style=\"width:100%;\"><div style=\"position:relative;width:100%;height:0;padding-bottom:60%;\"><span style=\"color:#565656\">Make this Notebook Trusted to load map: File -> Trust Notebook</span><iframe srcdoc=\"&lt;!DOCTYPE html&gt;\n",
       "&lt;html&gt;\n",
       "&lt;head&gt;\n",
       "    \n",
       "    &lt;meta http-equiv=&quot;content-type&quot; content=&quot;text/html; charset=UTF-8&quot; /&gt;\n",
       "    \n",
       "        &lt;script&gt;\n",
       "            L_NO_TOUCH = false;\n",
       "            L_DISABLE_3D = false;\n",
       "        &lt;/script&gt;\n",
       "    \n",
       "    &lt;style&gt;html, body {width: 100%;height: 100%;margin: 0;padding: 0;}&lt;/style&gt;\n",
       "    &lt;style&gt;#map {position:absolute;top:0;bottom:0;right:0;left:0;}&lt;/style&gt;\n",
       "    &lt;script src=&quot;https://cdn.jsdelivr.net/npm/leaflet@1.9.3/dist/leaflet.js&quot;&gt;&lt;/script&gt;\n",
       "    &lt;script src=&quot;https://code.jquery.com/jquery-3.7.1.min.js&quot;&gt;&lt;/script&gt;\n",
       "    &lt;script src=&quot;https://cdn.jsdelivr.net/npm/bootstrap@5.2.2/dist/js/bootstrap.bundle.min.js&quot;&gt;&lt;/script&gt;\n",
       "    &lt;script src=&quot;https://cdnjs.cloudflare.com/ajax/libs/Leaflet.awesome-markers/2.0.2/leaflet.awesome-markers.js&quot;&gt;&lt;/script&gt;\n",
       "    &lt;link rel=&quot;stylesheet&quot; href=&quot;https://cdn.jsdelivr.net/npm/leaflet@1.9.3/dist/leaflet.css&quot;/&gt;\n",
       "    &lt;link rel=&quot;stylesheet&quot; href=&quot;https://cdn.jsdelivr.net/npm/bootstrap@5.2.2/dist/css/bootstrap.min.css&quot;/&gt;\n",
       "    &lt;link rel=&quot;stylesheet&quot; href=&quot;https://netdna.bootstrapcdn.com/bootstrap/3.0.0/css/bootstrap.min.css&quot;/&gt;\n",
       "    &lt;link rel=&quot;stylesheet&quot; href=&quot;https://cdn.jsdelivr.net/npm/@fortawesome/fontawesome-free@6.2.0/css/all.min.css&quot;/&gt;\n",
       "    &lt;link rel=&quot;stylesheet&quot; href=&quot;https://cdnjs.cloudflare.com/ajax/libs/Leaflet.awesome-markers/2.0.2/leaflet.awesome-markers.css&quot;/&gt;\n",
       "    &lt;link rel=&quot;stylesheet&quot; href=&quot;https://cdn.jsdelivr.net/gh/python-visualization/folium/folium/templates/leaflet.awesome.rotate.min.css&quot;/&gt;\n",
       "    \n",
       "            &lt;meta name=&quot;viewport&quot; content=&quot;width=device-width,\n",
       "                initial-scale=1.0, maximum-scale=1.0, user-scalable=no&quot; /&gt;\n",
       "            &lt;style&gt;\n",
       "                #map_2e02150cf51148a4b5215a0178b0b44d {\n",
       "                    position: relative;\n",
       "                    width: 100.0%;\n",
       "                    height: 100.0%;\n",
       "                    left: 0.0%;\n",
       "                    top: 0.0%;\n",
       "                }\n",
       "                .leaflet-container { font-size: 1rem; }\n",
       "            &lt;/style&gt;\n",
       "        \n",
       "&lt;/head&gt;\n",
       "&lt;body&gt;\n",
       "    \n",
       "    \n",
       "            &lt;div class=&quot;folium-map&quot; id=&quot;map_2e02150cf51148a4b5215a0178b0b44d&quot; &gt;&lt;/div&gt;\n",
       "        \n",
       "&lt;/body&gt;\n",
       "&lt;script&gt;\n",
       "    \n",
       "    \n",
       "            var map_2e02150cf51148a4b5215a0178b0b44d = L.map(\n",
       "                &quot;map_2e02150cf51148a4b5215a0178b0b44d&quot;,\n",
       "                {\n",
       "                    center: [20.0, 0.0],\n",
       "                    crs: L.CRS.EPSG3857,\n",
       "                    zoom: 2,\n",
       "                    zoomControl: true,\n",
       "                    preferCanvas: false,\n",
       "                }\n",
       "            );\n",
       "\n",
       "            \n",
       "\n",
       "        \n",
       "    \n",
       "            var tile_layer_12107314b9dceac2b7011d35a1345d45 = L.tileLayer(\n",
       "                &quot;https://tile.openstreetmap.org/{z}/{x}/{y}.png&quot;,\n",
       "                {&quot;attribution&quot;: &quot;\\u0026copy; \\u003ca href=\\&quot;https://www.openstreetmap.org/copyright\\&quot;\\u003eOpenStreetMap\\u003c/a\\u003e contributors&quot;, &quot;detectRetina&quot;: false, &quot;maxNativeZoom&quot;: 19, &quot;maxZoom&quot;: 19, &quot;minZoom&quot;: 0, &quot;noWrap&quot;: false, &quot;opacity&quot;: 1, &quot;subdomains&quot;: &quot;abc&quot;, &quot;tms&quot;: false}\n",
       "            );\n",
       "        \n",
       "    \n",
       "            tile_layer_12107314b9dceac2b7011d35a1345d45.addTo(map_2e02150cf51148a4b5215a0178b0b44d);\n",
       "        \n",
       "    \n",
       "            var circle_marker_7890e9f28d405509d32b229a511f2f36 = L.circleMarker(\n",
       "                [54.7023545, -3.2765753],\n",
       "                {&quot;bubblingMouseEvents&quot;: true, &quot;color&quot;: &quot;blue&quot;, &quot;dashArray&quot;: null, &quot;dashOffset&quot;: null, &quot;fill&quot;: true, &quot;fillColor&quot;: &quot;blue&quot;, &quot;fillOpacity&quot;: 0.6, &quot;fillRule&quot;: &quot;evenodd&quot;, &quot;lineCap&quot;: &quot;round&quot;, &quot;lineJoin&quot;: &quot;round&quot;, &quot;opacity&quot;: 1.0, &quot;radius&quot;: 8, &quot;stroke&quot;: true, &quot;weight&quot;: 3}\n",
       "            ).addTo(map_2e02150cf51148a4b5215a0178b0b44d);\n",
       "        \n",
       "    \n",
       "        var popup_67df87f90240228334ce169fb347c123 = L.popup({&quot;maxWidth&quot;: &quot;100%&quot;});\n",
       "\n",
       "        \n",
       "            \n",
       "                var html_c554787fd74cead7e6f5b6b6eb6d3fef = $(`&lt;div id=&quot;html_c554787fd74cead7e6f5b6b6eb6d3fef&quot; style=&quot;width: 100.0%; height: 100.0%;&quot;&gt;United Kingdom: 329007 transactions&lt;/div&gt;`)[0];\n",
       "                popup_67df87f90240228334ce169fb347c123.setContent(html_c554787fd74cead7e6f5b6b6eb6d3fef);\n",
       "            \n",
       "        \n",
       "\n",
       "        circle_marker_7890e9f28d405509d32b229a511f2f36.bindPopup(popup_67df87f90240228334ce169fb347c123)\n",
       "        ;\n",
       "\n",
       "        \n",
       "    \n",
       "    \n",
       "            var circle_marker_b080027d38f949c4b2ab5e7b0cd5da6d = L.circleMarker(\n",
       "                [51.1638175, 10.4478313],\n",
       "                {&quot;bubblingMouseEvents&quot;: true, &quot;color&quot;: &quot;blue&quot;, &quot;dashArray&quot;: null, &quot;dashOffset&quot;: null, &quot;fill&quot;: true, &quot;fillColor&quot;: &quot;blue&quot;, &quot;fillOpacity&quot;: 0.6, &quot;fillRule&quot;: &quot;evenodd&quot;, &quot;lineCap&quot;: &quot;round&quot;, &quot;lineJoin&quot;: &quot;round&quot;, &quot;opacity&quot;: 1.0, &quot;radius&quot;: 8, &quot;stroke&quot;: true, &quot;weight&quot;: 3}\n",
       "            ).addTo(map_2e02150cf51148a4b5215a0178b0b44d);\n",
       "        \n",
       "    \n",
       "        var popup_871dcffca3eb0e6e3350c469ed53d618 = L.popup({&quot;maxWidth&quot;: &quot;100%&quot;});\n",
       "\n",
       "        \n",
       "            \n",
       "                var html_82d8da48581efee4c71ae00f8edadf99 = $(`&lt;div id=&quot;html_82d8da48581efee4c71ae00f8edadf99&quot; style=&quot;width: 100.0%; height: 100.0%;&quot;&gt;Germany: 8504 transactions&lt;/div&gt;`)[0];\n",
       "                popup_871dcffca3eb0e6e3350c469ed53d618.setContent(html_82d8da48581efee4c71ae00f8edadf99);\n",
       "            \n",
       "        \n",
       "\n",
       "        circle_marker_b080027d38f949c4b2ab5e7b0cd5da6d.bindPopup(popup_871dcffca3eb0e6e3350c469ed53d618)\n",
       "        ;\n",
       "\n",
       "        \n",
       "    \n",
       "    \n",
       "            var circle_marker_f14d1a765a08ac7157c344ddd60366af = L.circleMarker(\n",
       "                [46.603354, 1.8883335],\n",
       "                {&quot;bubblingMouseEvents&quot;: true, &quot;color&quot;: &quot;blue&quot;, &quot;dashArray&quot;: null, &quot;dashOffset&quot;: null, &quot;fill&quot;: true, &quot;fillColor&quot;: &quot;blue&quot;, &quot;fillOpacity&quot;: 0.6, &quot;fillRule&quot;: &quot;evenodd&quot;, &quot;lineCap&quot;: &quot;round&quot;, &quot;lineJoin&quot;: &quot;round&quot;, &quot;opacity&quot;: 1.0, &quot;radius&quot;: 8, &quot;stroke&quot;: true, &quot;weight&quot;: 3}\n",
       "            ).addTo(map_2e02150cf51148a4b5215a0178b0b44d);\n",
       "        \n",
       "    \n",
       "        var popup_b9544ee0a4db2accaec59927b95035dd = L.popup({&quot;maxWidth&quot;: &quot;100%&quot;});\n",
       "\n",
       "        \n",
       "            \n",
       "                var html_98be432ae94a5e17fd4deb01d92ee7a5 = $(`&lt;div id=&quot;html_98be432ae94a5e17fd4deb01d92ee7a5&quot; style=&quot;width: 100.0%; height: 100.0%;&quot;&gt;France: 7828 transactions&lt;/div&gt;`)[0];\n",
       "                popup_b9544ee0a4db2accaec59927b95035dd.setContent(html_98be432ae94a5e17fd4deb01d92ee7a5);\n",
       "            \n",
       "        \n",
       "\n",
       "        circle_marker_f14d1a765a08ac7157c344ddd60366af.bindPopup(popup_b9544ee0a4db2accaec59927b95035dd)\n",
       "        ;\n",
       "\n",
       "        \n",
       "    \n",
       "    \n",
       "            var circle_marker_864ceab15dd4a3cd35d4071c6148cd22 = L.circleMarker(\n",
       "                [52.865196, -7.9794599],\n",
       "                {&quot;bubblingMouseEvents&quot;: true, &quot;color&quot;: &quot;blue&quot;, &quot;dashArray&quot;: null, &quot;dashOffset&quot;: null, &quot;fill&quot;: true, &quot;fillColor&quot;: &quot;blue&quot;, &quot;fillOpacity&quot;: 0.6, &quot;fillRule&quot;: &quot;evenodd&quot;, &quot;lineCap&quot;: &quot;round&quot;, &quot;lineJoin&quot;: &quot;round&quot;, &quot;opacity&quot;: 1.0, &quot;radius&quot;: 8, &quot;stroke&quot;: true, &quot;weight&quot;: 3}\n",
       "            ).addTo(map_2e02150cf51148a4b5215a0178b0b44d);\n",
       "        \n",
       "    \n",
       "        var popup_81714ec4c8ad03f4ecc9fd56a3845f51 = L.popup({&quot;maxWidth&quot;: &quot;100%&quot;});\n",
       "\n",
       "        \n",
       "            \n",
       "                var html_f6d9566618f30a3ef4cf6a61d036453e = $(`&lt;div id=&quot;html_f6d9566618f30a3ef4cf6a61d036453e&quot; style=&quot;width: 100.0%; height: 100.0%;&quot;&gt;EIRE: 6391 transactions&lt;/div&gt;`)[0];\n",
       "                popup_81714ec4c8ad03f4ecc9fd56a3845f51.setContent(html_f6d9566618f30a3ef4cf6a61d036453e);\n",
       "            \n",
       "        \n",
       "\n",
       "        circle_marker_864ceab15dd4a3cd35d4071c6148cd22.bindPopup(popup_81714ec4c8ad03f4ecc9fd56a3845f51)\n",
       "        ;\n",
       "\n",
       "        \n",
       "    \n",
       "    \n",
       "            var circle_marker_aabfdf8cf4ada81798724c1b2f30553b = L.circleMarker(\n",
       "                [39.3260685, -4.8379791],\n",
       "                {&quot;bubblingMouseEvents&quot;: true, &quot;color&quot;: &quot;blue&quot;, &quot;dashArray&quot;: null, &quot;dashOffset&quot;: null, &quot;fill&quot;: true, &quot;fillColor&quot;: &quot;blue&quot;, &quot;fillOpacity&quot;: 0.6, &quot;fillRule&quot;: &quot;evenodd&quot;, &quot;lineCap&quot;: &quot;round&quot;, &quot;lineJoin&quot;: &quot;round&quot;, &quot;opacity&quot;: 1.0, &quot;radius&quot;: 8, &quot;stroke&quot;: true, &quot;weight&quot;: 3}\n",
       "            ).addTo(map_2e02150cf51148a4b5215a0178b0b44d);\n",
       "        \n",
       "    \n",
       "        var popup_4af4922a68860ff2c4f816cfe1a39edd = L.popup({&quot;maxWidth&quot;: &quot;100%&quot;});\n",
       "\n",
       "        \n",
       "            \n",
       "                var html_1b6d1671776e00a89853104edb19e530 = $(`&lt;div id=&quot;html_1b6d1671776e00a89853104edb19e530&quot; style=&quot;width: 100.0%; height: 100.0%;&quot;&gt;Spain: 2374 transactions&lt;/div&gt;`)[0];\n",
       "                popup_4af4922a68860ff2c4f816cfe1a39edd.setContent(html_1b6d1671776e00a89853104edb19e530);\n",
       "            \n",
       "        \n",
       "\n",
       "        circle_marker_aabfdf8cf4ada81798724c1b2f30553b.bindPopup(popup_4af4922a68860ff2c4f816cfe1a39edd)\n",
       "        ;\n",
       "\n",
       "        \n",
       "    \n",
       "    \n",
       "            var circle_marker_bd8e36fee0b8a7bbeea00f46201944d6 = L.circleMarker(\n",
       "                [50.6402809, 4.6667145],\n",
       "                {&quot;bubblingMouseEvents&quot;: true, &quot;color&quot;: &quot;blue&quot;, &quot;dashArray&quot;: null, &quot;dashOffset&quot;: null, &quot;fill&quot;: true, &quot;fillColor&quot;: &quot;blue&quot;, &quot;fillOpacity&quot;: 0.6, &quot;fillRule&quot;: &quot;evenodd&quot;, &quot;lineCap&quot;: &quot;round&quot;, &quot;lineJoin&quot;: &quot;round&quot;, &quot;opacity&quot;: 1.0, &quot;radius&quot;: 8, &quot;stroke&quot;: true, &quot;weight&quot;: 3}\n",
       "            ).addTo(map_2e02150cf51148a4b5215a0178b0b44d);\n",
       "        \n",
       "    \n",
       "        var popup_d6f9c2f5b9c3f8b088a6aa9b16871e75 = L.popup({&quot;maxWidth&quot;: &quot;100%&quot;});\n",
       "\n",
       "        \n",
       "            \n",
       "                var html_3a4d52163a2a2cb8fcf3fd9b8497240c = $(`&lt;div id=&quot;html_3a4d52163a2a2cb8fcf3fd9b8497240c&quot; style=&quot;width: 100.0%; height: 100.0%;&quot;&gt;Belgium: 1954 transactions&lt;/div&gt;`)[0];\n",
       "                popup_d6f9c2f5b9c3f8b088a6aa9b16871e75.setContent(html_3a4d52163a2a2cb8fcf3fd9b8497240c);\n",
       "            \n",
       "        \n",
       "\n",
       "        circle_marker_bd8e36fee0b8a7bbeea00f46201944d6.bindPopup(popup_d6f9c2f5b9c3f8b088a6aa9b16871e75)\n",
       "        ;\n",
       "\n",
       "        \n",
       "    \n",
       "    \n",
       "            var circle_marker_b8c23db16a845778a1a588bfdc110f31 = L.circleMarker(\n",
       "                [46.7985624, 8.2319736],\n",
       "                {&quot;bubblingMouseEvents&quot;: true, &quot;color&quot;: &quot;blue&quot;, &quot;dashArray&quot;: null, &quot;dashOffset&quot;: null, &quot;fill&quot;: true, &quot;fillColor&quot;: &quot;blue&quot;, &quot;fillOpacity&quot;: 0.6, &quot;fillRule&quot;: &quot;evenodd&quot;, &quot;lineCap&quot;: &quot;round&quot;, &quot;lineJoin&quot;: &quot;round&quot;, &quot;opacity&quot;: 1.0, &quot;radius&quot;: 8, &quot;stroke&quot;: true, &quot;weight&quot;: 3}\n",
       "            ).addTo(map_2e02150cf51148a4b5215a0178b0b44d);\n",
       "        \n",
       "    \n",
       "        var popup_38f5599627de5edb9e4fe69d8fd2f7c1 = L.popup({&quot;maxWidth&quot;: &quot;100%&quot;});\n",
       "\n",
       "        \n",
       "            \n",
       "                var html_e49d81df84c703d6a1f13a88460f6f37 = $(`&lt;div id=&quot;html_e49d81df84c703d6a1f13a88460f6f37&quot; style=&quot;width: 100.0%; height: 100.0%;&quot;&gt;Switzerland: 1649 transactions&lt;/div&gt;`)[0];\n",
       "                popup_38f5599627de5edb9e4fe69d8fd2f7c1.setContent(html_e49d81df84c703d6a1f13a88460f6f37);\n",
       "            \n",
       "        \n",
       "\n",
       "        circle_marker_b8c23db16a845778a1a588bfdc110f31.bindPopup(popup_38f5599627de5edb9e4fe69d8fd2f7c1)\n",
       "        ;\n",
       "\n",
       "        \n",
       "    \n",
       "    \n",
       "            var circle_marker_aedfa611703c5a90240a260b3209f35d = L.circleMarker(\n",
       "                [39.6621648, -8.1353519],\n",
       "                {&quot;bubblingMouseEvents&quot;: true, &quot;color&quot;: &quot;blue&quot;, &quot;dashArray&quot;: null, &quot;dashOffset&quot;: null, &quot;fill&quot;: true, &quot;fillColor&quot;: &quot;blue&quot;, &quot;fillOpacity&quot;: 0.6, &quot;fillRule&quot;: &quot;evenodd&quot;, &quot;lineCap&quot;: &quot;round&quot;, &quot;lineJoin&quot;: &quot;round&quot;, &quot;opacity&quot;: 1.0, &quot;radius&quot;: 8, &quot;stroke&quot;: true, &quot;weight&quot;: 3}\n",
       "            ).addTo(map_2e02150cf51148a4b5215a0178b0b44d);\n",
       "        \n",
       "    \n",
       "        var popup_c69f83baeee4ca372b6b1a266d267a53 = L.popup({&quot;maxWidth&quot;: &quot;100%&quot;});\n",
       "\n",
       "        \n",
       "            \n",
       "                var html_fd49c782fe0bdaa9dad198591f473666 = $(`&lt;div id=&quot;html_fd49c782fe0bdaa9dad198591f473666&quot; style=&quot;width: 100.0%; height: 100.0%;&quot;&gt;Portugal: 1371 transactions&lt;/div&gt;`)[0];\n",
       "                popup_c69f83baeee4ca372b6b1a266d267a53.setContent(html_fd49c782fe0bdaa9dad198591f473666);\n",
       "            \n",
       "        \n",
       "\n",
       "        circle_marker_aedfa611703c5a90240a260b3209f35d.bindPopup(popup_c69f83baeee4ca372b6b1a266d267a53)\n",
       "        ;\n",
       "\n",
       "        \n",
       "    \n",
       "    \n",
       "            var circle_marker_724ac8da7123f59a4beeb51942d628a1 = L.circleMarker(\n",
       "                [64.5731537, 11.52803643954819],\n",
       "                {&quot;bubblingMouseEvents&quot;: true, &quot;color&quot;: &quot;blue&quot;, &quot;dashArray&quot;: null, &quot;dashOffset&quot;: null, &quot;fill&quot;: true, &quot;fillColor&quot;: &quot;blue&quot;, &quot;fillOpacity&quot;: 0.6, &quot;fillRule&quot;: &quot;evenodd&quot;, &quot;lineCap&quot;: &quot;round&quot;, &quot;lineJoin&quot;: &quot;round&quot;, &quot;opacity&quot;: 1.0, &quot;radius&quot;: 8, &quot;stroke&quot;: true, &quot;weight&quot;: 3}\n",
       "            ).addTo(map_2e02150cf51148a4b5215a0178b0b44d);\n",
       "        \n",
       "    \n",
       "        var popup_cc887af7e8847b59751d8297794ed645 = L.popup({&quot;maxWidth&quot;: &quot;100%&quot;});\n",
       "\n",
       "        \n",
       "            \n",
       "                var html_74f74d9228f567318480ed2aeccaea43 = $(`&lt;div id=&quot;html_74f74d9228f567318480ed2aeccaea43&quot; style=&quot;width: 100.0%; height: 100.0%;&quot;&gt;Norway: 914 transactions&lt;/div&gt;`)[0];\n",
       "                popup_cc887af7e8847b59751d8297794ed645.setContent(html_74f74d9228f567318480ed2aeccaea43);\n",
       "            \n",
       "        \n",
       "\n",
       "        circle_marker_724ac8da7123f59a4beeb51942d628a1.bindPopup(popup_cc887af7e8847b59751d8297794ed645)\n",
       "        ;\n",
       "\n",
       "        \n",
       "    \n",
       "    \n",
       "            var circle_marker_d7d3a381e8f9492c563b00798be8719f = L.circleMarker(\n",
       "                [52.2434979, 5.6343227],\n",
       "                {&quot;bubblingMouseEvents&quot;: true, &quot;color&quot;: &quot;blue&quot;, &quot;dashArray&quot;: null, &quot;dashOffset&quot;: null, &quot;fill&quot;: true, &quot;fillColor&quot;: &quot;blue&quot;, &quot;fillOpacity&quot;: 0.6, &quot;fillRule&quot;: &quot;evenodd&quot;, &quot;lineCap&quot;: &quot;round&quot;, &quot;lineJoin&quot;: &quot;round&quot;, &quot;opacity&quot;: 1.0, &quot;radius&quot;: 8, &quot;stroke&quot;: true, &quot;weight&quot;: 3}\n",
       "            ).addTo(map_2e02150cf51148a4b5215a0178b0b44d);\n",
       "        \n",
       "    \n",
       "        var popup_24630afd76f98afe0a241e2bf4a23ed5 = L.popup({&quot;maxWidth&quot;: &quot;100%&quot;});\n",
       "\n",
       "        \n",
       "            \n",
       "                var html_ee6350001068a245c95dbd9d68191d47 = $(`&lt;div id=&quot;html_ee6350001068a245c95dbd9d68191d47&quot; style=&quot;width: 100.0%; height: 100.0%;&quot;&gt;Netherlands: 787 transactions&lt;/div&gt;`)[0];\n",
       "                popup_24630afd76f98afe0a241e2bf4a23ed5.setContent(html_ee6350001068a245c95dbd9d68191d47);\n",
       "            \n",
       "        \n",
       "\n",
       "        circle_marker_d7d3a381e8f9492c563b00798be8719f.bindPopup(popup_24630afd76f98afe0a241e2bf4a23ed5)\n",
       "        ;\n",
       "\n",
       "        \n",
       "    \n",
       "    \n",
       "            var circle_marker_3df7d7e2a6fe03c463c535a843867aab = L.circleMarker(\n",
       "                [42.6384261, 12.674297],\n",
       "                {&quot;bubblingMouseEvents&quot;: true, &quot;color&quot;: &quot;blue&quot;, &quot;dashArray&quot;: null, &quot;dashOffset&quot;: null, &quot;fill&quot;: true, &quot;fillColor&quot;: &quot;blue&quot;, &quot;fillOpacity&quot;: 0.6, &quot;fillRule&quot;: &quot;evenodd&quot;, &quot;lineCap&quot;: &quot;round&quot;, &quot;lineJoin&quot;: &quot;round&quot;, &quot;opacity&quot;: 1.0, &quot;radius&quot;: 8, &quot;stroke&quot;: true, &quot;weight&quot;: 3}\n",
       "            ).addTo(map_2e02150cf51148a4b5215a0178b0b44d);\n",
       "        \n",
       "    \n",
       "        var popup_01dd22ea9b0df34388279386b8160334 = L.popup({&quot;maxWidth&quot;: &quot;100%&quot;});\n",
       "\n",
       "        \n",
       "            \n",
       "                var html_2a1c1fcaf4abf55c81cc0571d3bc7805 = $(`&lt;div id=&quot;html_2a1c1fcaf4abf55c81cc0571d3bc7805&quot; style=&quot;width: 100.0%; height: 100.0%;&quot;&gt;Italy: 736 transactions&lt;/div&gt;`)[0];\n",
       "                popup_01dd22ea9b0df34388279386b8160334.setContent(html_2a1c1fcaf4abf55c81cc0571d3bc7805);\n",
       "            \n",
       "        \n",
       "\n",
       "        circle_marker_3df7d7e2a6fe03c463c535a843867aab.bindPopup(popup_01dd22ea9b0df34388279386b8160334)\n",
       "        ;\n",
       "\n",
       "        \n",
       "    \n",
       "    \n",
       "            var circle_marker_5eccaf102fdcbb0c4545658519449e7d = L.circleMarker(\n",
       "                [49.21230655, -2.1255999596428845],\n",
       "                {&quot;bubblingMouseEvents&quot;: true, &quot;color&quot;: &quot;blue&quot;, &quot;dashArray&quot;: null, &quot;dashOffset&quot;: null, &quot;fill&quot;: true, &quot;fillColor&quot;: &quot;blue&quot;, &quot;fillOpacity&quot;: 0.6, &quot;fillRule&quot;: &quot;evenodd&quot;, &quot;lineCap&quot;: &quot;round&quot;, &quot;lineJoin&quot;: &quot;round&quot;, &quot;opacity&quot;: 1.0, &quot;radius&quot;: 8, &quot;stroke&quot;: true, &quot;weight&quot;: 3}\n",
       "            ).addTo(map_2e02150cf51148a4b5215a0178b0b44d);\n",
       "        \n",
       "    \n",
       "        var popup_df1e65a5544b8cbf672ba1914cd869b0 = L.popup({&quot;maxWidth&quot;: &quot;100%&quot;});\n",
       "\n",
       "        \n",
       "            \n",
       "                var html_5ade939ed7d08fc4c4c1099192c63bda = $(`&lt;div id=&quot;html_5ade939ed7d08fc4c4c1099192c63bda&quot; style=&quot;width: 100.0%; height: 100.0%;&quot;&gt;Channel Islands: 716 transactions&lt;/div&gt;`)[0];\n",
       "                popup_df1e65a5544b8cbf672ba1914cd869b0.setContent(html_5ade939ed7d08fc4c4c1099192c63bda);\n",
       "            \n",
       "        \n",
       "\n",
       "        circle_marker_5eccaf102fdcbb0c4545658519449e7d.bindPopup(popup_df1e65a5544b8cbf672ba1914cd869b0)\n",
       "        ;\n",
       "\n",
       "        \n",
       "    \n",
       "    \n",
       "            var circle_marker_efe42343bca833c32cc87f95d5befada = L.circleMarker(\n",
       "                [63.2467777, 25.9209164],\n",
       "                {&quot;bubblingMouseEvents&quot;: true, &quot;color&quot;: &quot;blue&quot;, &quot;dashArray&quot;: null, &quot;dashOffset&quot;: null, &quot;fill&quot;: true, &quot;fillColor&quot;: &quot;blue&quot;, &quot;fillOpacity&quot;: 0.6, &quot;fillRule&quot;: &quot;evenodd&quot;, &quot;lineCap&quot;: &quot;round&quot;, &quot;lineJoin&quot;: &quot;round&quot;, &quot;opacity&quot;: 1.0, &quot;radius&quot;: 8, &quot;stroke&quot;: true, &quot;weight&quot;: 3}\n",
       "            ).addTo(map_2e02150cf51148a4b5215a0178b0b44d);\n",
       "        \n",
       "    \n",
       "        var popup_e84e44e87dd3265c0edec86818659e69 = L.popup({&quot;maxWidth&quot;: &quot;100%&quot;});\n",
       "\n",
       "        \n",
       "            \n",
       "                var html_dfba55ed15d374fb79124229ae6e7537 = $(`&lt;div id=&quot;html_dfba55ed15d374fb79124229ae6e7537&quot; style=&quot;width: 100.0%; height: 100.0%;&quot;&gt;Finland: 621 transactions&lt;/div&gt;`)[0];\n",
       "                popup_e84e44e87dd3265c0edec86818659e69.setContent(html_dfba55ed15d374fb79124229ae6e7537);\n",
       "            \n",
       "        \n",
       "\n",
       "        circle_marker_efe42343bca833c32cc87f95d5befada.bindPopup(popup_e84e44e87dd3265c0edec86818659e69)\n",
       "        ;\n",
       "\n",
       "        \n",
       "    \n",
       "    \n",
       "            var circle_marker_169a0c4c527eb02f23ba394287487354 = L.circleMarker(\n",
       "                [-24.7761086, 134.755],\n",
       "                {&quot;bubblingMouseEvents&quot;: true, &quot;color&quot;: &quot;blue&quot;, &quot;dashArray&quot;: null, &quot;dashOffset&quot;: null, &quot;fill&quot;: true, &quot;fillColor&quot;: &quot;blue&quot;, &quot;fillOpacity&quot;: 0.6, &quot;fillRule&quot;: &quot;evenodd&quot;, &quot;lineCap&quot;: &quot;round&quot;, &quot;lineJoin&quot;: &quot;round&quot;, &quot;opacity&quot;: 1.0, &quot;radius&quot;: 8, &quot;stroke&quot;: true, &quot;weight&quot;: 3}\n",
       "            ).addTo(map_2e02150cf51148a4b5215a0178b0b44d);\n",
       "        \n",
       "    \n",
       "        var popup_c2ac3f047fe6552fbbc0e9fa4560ffcc = L.popup({&quot;maxWidth&quot;: &quot;100%&quot;});\n",
       "\n",
       "        \n",
       "            \n",
       "                var html_671ac47d062ca9cbcd79f4fe8640a68b = $(`&lt;div id=&quot;html_671ac47d062ca9cbcd79f4fe8640a68b&quot; style=&quot;width: 100.0%; height: 100.0%;&quot;&gt;Australia: 578 transactions&lt;/div&gt;`)[0];\n",
       "                popup_c2ac3f047fe6552fbbc0e9fa4560ffcc.setContent(html_671ac47d062ca9cbcd79f4fe8640a68b);\n",
       "            \n",
       "        \n",
       "\n",
       "        circle_marker_169a0c4c527eb02f23ba394287487354.bindPopup(popup_c2ac3f047fe6552fbbc0e9fa4560ffcc)\n",
       "        ;\n",
       "\n",
       "        \n",
       "    \n",
       "    \n",
       "            var circle_marker_d9478e60a3fef1d96352fb71c8f83ee5 = L.circleMarker(\n",
       "                [34.9174159, 32.889902651331866],\n",
       "                {&quot;bubblingMouseEvents&quot;: true, &quot;color&quot;: &quot;blue&quot;, &quot;dashArray&quot;: null, &quot;dashOffset&quot;: null, &quot;fill&quot;: true, &quot;fillColor&quot;: &quot;blue&quot;, &quot;fillOpacity&quot;: 0.6, &quot;fillRule&quot;: &quot;evenodd&quot;, &quot;lineCap&quot;: &quot;round&quot;, &quot;lineJoin&quot;: &quot;round&quot;, &quot;opacity&quot;: 1.0, &quot;radius&quot;: 8, &quot;stroke&quot;: true, &quot;weight&quot;: 3}\n",
       "            ).addTo(map_2e02150cf51148a4b5215a0178b0b44d);\n",
       "        \n",
       "    \n",
       "        var popup_d8495db06ade4069eca22b1ccb532106 = L.popup({&quot;maxWidth&quot;: &quot;100%&quot;});\n",
       "\n",
       "        \n",
       "            \n",
       "                var html_757d7074ae20424669d959b9b22ca70a = $(`&lt;div id=&quot;html_757d7074ae20424669d959b9b22ca70a&quot; style=&quot;width: 100.0%; height: 100.0%;&quot;&gt;Cyprus: 570 transactions&lt;/div&gt;`)[0];\n",
       "                popup_d8495db06ade4069eca22b1ccb532106.setContent(html_757d7074ae20424669d959b9b22ca70a);\n",
       "            \n",
       "        \n",
       "\n",
       "        circle_marker_d9478e60a3fef1d96352fb71c8f83ee5.bindPopup(popup_d8495db06ade4069eca22b1ccb532106)\n",
       "        ;\n",
       "\n",
       "        \n",
       "    \n",
       "    \n",
       "            var circle_marker_6b3093f678b180f919a67dfd3cc6795a = L.circleMarker(\n",
       "                [47.59397, 14.12456],\n",
       "                {&quot;bubblingMouseEvents&quot;: true, &quot;color&quot;: &quot;blue&quot;, &quot;dashArray&quot;: null, &quot;dashOffset&quot;: null, &quot;fill&quot;: true, &quot;fillColor&quot;: &quot;blue&quot;, &quot;fillOpacity&quot;: 0.6, &quot;fillRule&quot;: &quot;evenodd&quot;, &quot;lineCap&quot;: &quot;round&quot;, &quot;lineJoin&quot;: &quot;round&quot;, &quot;opacity&quot;: 1.0, &quot;radius&quot;: 8, &quot;stroke&quot;: true, &quot;weight&quot;: 3}\n",
       "            ).addTo(map_2e02150cf51148a4b5215a0178b0b44d);\n",
       "        \n",
       "    \n",
       "        var popup_a0f9ba74f833dfed145895f27ed63363 = L.popup({&quot;maxWidth&quot;: &quot;100%&quot;});\n",
       "\n",
       "        \n",
       "            \n",
       "                var html_a74c44b9b0cc4dff0b8b1af36d327ac8 = $(`&lt;div id=&quot;html_a74c44b9b0cc4dff0b8b1af36d327ac8&quot; style=&quot;width: 100.0%; height: 100.0%;&quot;&gt;Austria: 387 transactions&lt;/div&gt;`)[0];\n",
       "                popup_a0f9ba74f833dfed145895f27ed63363.setContent(html_a74c44b9b0cc4dff0b8b1af36d327ac8);\n",
       "            \n",
       "        \n",
       "\n",
       "        circle_marker_6b3093f678b180f919a67dfd3cc6795a.bindPopup(popup_a0f9ba74f833dfed145895f27ed63363)\n",
       "        ;\n",
       "\n",
       "        \n",
       "    \n",
       "    \n",
       "            var circle_marker_45cfd5ef0cee025900b60808f10c1d2e = L.circleMarker(\n",
       "                [55.670249, 10.3333283],\n",
       "                {&quot;bubblingMouseEvents&quot;: true, &quot;color&quot;: &quot;blue&quot;, &quot;dashArray&quot;: null, &quot;dashOffset&quot;: null, &quot;fill&quot;: true, &quot;fillColor&quot;: &quot;blue&quot;, &quot;fillOpacity&quot;: 0.6, &quot;fillRule&quot;: &quot;evenodd&quot;, &quot;lineCap&quot;: &quot;round&quot;, &quot;lineJoin&quot;: &quot;round&quot;, &quot;opacity&quot;: 1.0, &quot;radius&quot;: 8, &quot;stroke&quot;: true, &quot;weight&quot;: 3}\n",
       "            ).addTo(map_2e02150cf51148a4b5215a0178b0b44d);\n",
       "        \n",
       "    \n",
       "        var popup_4ad28baf6173b7cc6dfe019f180e5f85 = L.popup({&quot;maxWidth&quot;: &quot;100%&quot;});\n",
       "\n",
       "        \n",
       "            \n",
       "                var html_a3acee28a424408954c4c267596f1853 = $(`&lt;div id=&quot;html_a3acee28a424408954c4c267596f1853&quot; style=&quot;width: 100.0%; height: 100.0%;&quot;&gt;Denmark: 325 transactions&lt;/div&gt;`)[0];\n",
       "                popup_4ad28baf6173b7cc6dfe019f180e5f85.setContent(html_a3acee28a424408954c4c267596f1853);\n",
       "            \n",
       "        \n",
       "\n",
       "        circle_marker_45cfd5ef0cee025900b60808f10c1d2e.bindPopup(popup_4ad28baf6173b7cc6dfe019f180e5f85)\n",
       "        ;\n",
       "\n",
       "        \n",
       "    \n",
       "    \n",
       "            var circle_marker_6d69f3ee4e246fe46f3fdbf784729c03 = L.circleMarker(\n",
       "                [52.215933, 19.134422],\n",
       "                {&quot;bubblingMouseEvents&quot;: true, &quot;color&quot;: &quot;blue&quot;, &quot;dashArray&quot;: null, &quot;dashOffset&quot;: null, &quot;fill&quot;: true, &quot;fillColor&quot;: &quot;blue&quot;, &quot;fillOpacity&quot;: 0.6, &quot;fillRule&quot;: &quot;evenodd&quot;, &quot;lineCap&quot;: &quot;round&quot;, &quot;lineJoin&quot;: &quot;round&quot;, &quot;opacity&quot;: 1.0, &quot;radius&quot;: 8, &quot;stroke&quot;: true, &quot;weight&quot;: 3}\n",
       "            ).addTo(map_2e02150cf51148a4b5215a0178b0b44d);\n",
       "        \n",
       "    \n",
       "        var popup_cd9d23754bf9a6e8d012ef4a52d28297 = L.popup({&quot;maxWidth&quot;: &quot;100%&quot;});\n",
       "\n",
       "        \n",
       "            \n",
       "                var html_cc1b7e8955421d368691db60d897c65c = $(`&lt;div id=&quot;html_cc1b7e8955421d368691db60d897c65c&quot; style=&quot;width: 100.0%; height: 100.0%;&quot;&gt;Poland: 314 transactions&lt;/div&gt;`)[0];\n",
       "                popup_cd9d23754bf9a6e8d012ef4a52d28297.setContent(html_cc1b7e8955421d368691db60d897c65c);\n",
       "            \n",
       "        \n",
       "\n",
       "        circle_marker_6d69f3ee4e246fe46f3fdbf784729c03.bindPopup(popup_cd9d23754bf9a6e8d012ef4a52d28297)\n",
       "        ;\n",
       "\n",
       "        \n",
       "    \n",
       "    \n",
       "            var circle_marker_c9c41218c6f7b935de3b0367343a8adc = L.circleMarker(\n",
       "                [59.6749712, 14.5208584],\n",
       "                {&quot;bubblingMouseEvents&quot;: true, &quot;color&quot;: &quot;blue&quot;, &quot;dashArray&quot;: null, &quot;dashOffset&quot;: null, &quot;fill&quot;: true, &quot;fillColor&quot;: &quot;blue&quot;, &quot;fillOpacity&quot;: 0.6, &quot;fillRule&quot;: &quot;evenodd&quot;, &quot;lineCap&quot;: &quot;round&quot;, &quot;lineJoin&quot;: &quot;round&quot;, &quot;opacity&quot;: 1.0, &quot;radius&quot;: 8, &quot;stroke&quot;: true, &quot;weight&quot;: 3}\n",
       "            ).addTo(map_2e02150cf51148a4b5215a0178b0b44d);\n",
       "        \n",
       "    \n",
       "        var popup_ceae3deca2d4f6b5ab4ef7cb29f8ed55 = L.popup({&quot;maxWidth&quot;: &quot;100%&quot;});\n",
       "\n",
       "        \n",
       "            \n",
       "                var html_a8321d1dfc0f6d5457a9e3c64f98229a = $(`&lt;div id=&quot;html_a8321d1dfc0f6d5457a9e3c64f98229a&quot; style=&quot;width: 100.0%; height: 100.0%;&quot;&gt;Sweden: 280 transactions&lt;/div&gt;`)[0];\n",
       "                popup_ceae3deca2d4f6b5ab4ef7cb29f8ed55.setContent(html_a8321d1dfc0f6d5457a9e3c64f98229a);\n",
       "            \n",
       "        \n",
       "\n",
       "        circle_marker_c9c41218c6f7b935de3b0367343a8adc.bindPopup(popup_ceae3deca2d4f6b5ab4ef7cb29f8ed55)\n",
       "        ;\n",
       "\n",
       "        \n",
       "    \n",
       "    \n",
       "            var circle_marker_12f73d8644e2ade8e7422b6900e52f42 = L.circleMarker(\n",
       "                [27.1556836, 65.6101216],\n",
       "                {&quot;bubblingMouseEvents&quot;: true, &quot;color&quot;: &quot;blue&quot;, &quot;dashArray&quot;: null, &quot;dashOffset&quot;: null, &quot;fill&quot;: true, &quot;fillColor&quot;: &quot;blue&quot;, &quot;fillOpacity&quot;: 0.6, &quot;fillRule&quot;: &quot;evenodd&quot;, &quot;lineCap&quot;: &quot;round&quot;, &quot;lineJoin&quot;: &quot;round&quot;, &quot;opacity&quot;: 1.0, &quot;radius&quot;: 8, &quot;stroke&quot;: true, &quot;weight&quot;: 3}\n",
       "            ).addTo(map_2e02150cf51148a4b5215a0178b0b44d);\n",
       "        \n",
       "    \n",
       "        var popup_2bc353e8739eb1735d6d674d16446f49 = L.popup({&quot;maxWidth&quot;: &quot;100%&quot;});\n",
       "\n",
       "        \n",
       "            \n",
       "                var html_6a43692094a82d9b209db69acbc03b8c = $(`&lt;div id=&quot;html_6a43692094a82d9b209db69acbc03b8c&quot; style=&quot;width: 100.0%; height: 100.0%;&quot;&gt;Unspecified: 239 transactions&lt;/div&gt;`)[0];\n",
       "                popup_2bc353e8739eb1735d6d674d16446f49.setContent(html_6a43692094a82d9b209db69acbc03b8c);\n",
       "            \n",
       "        \n",
       "\n",
       "        circle_marker_12f73d8644e2ade8e7422b6900e52f42.bindPopup(popup_2bc353e8739eb1735d6d674d16446f49)\n",
       "        ;\n",
       "\n",
       "        \n",
       "    \n",
       "    \n",
       "            var circle_marker_f80baa6d14e177f9a98dacde28aaf692 = L.circleMarker(\n",
       "                [30.8124247, 34.8594762],\n",
       "                {&quot;bubblingMouseEvents&quot;: true, &quot;color&quot;: &quot;blue&quot;, &quot;dashArray&quot;: null, &quot;dashOffset&quot;: null, &quot;fill&quot;: true, &quot;fillColor&quot;: &quot;blue&quot;, &quot;fillOpacity&quot;: 0.6, &quot;fillRule&quot;: &quot;evenodd&quot;, &quot;lineCap&quot;: &quot;round&quot;, &quot;lineJoin&quot;: &quot;round&quot;, &quot;opacity&quot;: 1.0, &quot;radius&quot;: 8, &quot;stroke&quot;: true, &quot;weight&quot;: 3}\n",
       "            ).addTo(map_2e02150cf51148a4b5215a0178b0b44d);\n",
       "        \n",
       "    \n",
       "        var popup_eaac261831cca880515ac8ed1dbc4e81 = L.popup({&quot;maxWidth&quot;: &quot;100%&quot;});\n",
       "\n",
       "        \n",
       "            \n",
       "                var html_1c624636df8ea3bcf2d02e9130b683f7 = $(`&lt;div id=&quot;html_1c624636df8ea3bcf2d02e9130b683f7&quot; style=&quot;width: 100.0%; height: 100.0%;&quot;&gt;Israel: 215 transactions&lt;/div&gt;`)[0];\n",
       "                popup_eaac261831cca880515ac8ed1dbc4e81.setContent(html_1c624636df8ea3bcf2d02e9130b683f7);\n",
       "            \n",
       "        \n",
       "\n",
       "        circle_marker_f80baa6d14e177f9a98dacde28aaf692.bindPopup(popup_eaac261831cca880515ac8ed1dbc4e81)\n",
       "        ;\n",
       "\n",
       "        \n",
       "    \n",
       "    \n",
       "            var circle_marker_8ffc4a422b231b01f699888f426dec5a = L.circleMarker(\n",
       "                [64.9841821, -18.1059013],\n",
       "                {&quot;bubblingMouseEvents&quot;: true, &quot;color&quot;: &quot;blue&quot;, &quot;dashArray&quot;: null, &quot;dashOffset&quot;: null, &quot;fill&quot;: true, &quot;fillColor&quot;: &quot;blue&quot;, &quot;fillOpacity&quot;: 0.6, &quot;fillRule&quot;: &quot;evenodd&quot;, &quot;lineCap&quot;: &quot;round&quot;, &quot;lineJoin&quot;: &quot;round&quot;, &quot;opacity&quot;: 1.0, &quot;radius&quot;: 8, &quot;stroke&quot;: true, &quot;weight&quot;: 3}\n",
       "            ).addTo(map_2e02150cf51148a4b5215a0178b0b44d);\n",
       "        \n",
       "    \n",
       "        var popup_bf0ff48c5eb9e4454e0fe0da82af8873 = L.popup({&quot;maxWidth&quot;: &quot;100%&quot;});\n",
       "\n",
       "        \n",
       "            \n",
       "                var html_4d8846ae53af4729bfe2997992ef3980 = $(`&lt;div id=&quot;html_4d8846ae53af4729bfe2997992ef3980&quot; style=&quot;width: 100.0%; height: 100.0%;&quot;&gt;Iceland: 173 transactions&lt;/div&gt;`)[0];\n",
       "                popup_bf0ff48c5eb9e4454e0fe0da82af8873.setContent(html_4d8846ae53af4729bfe2997992ef3980);\n",
       "            \n",
       "        \n",
       "\n",
       "        circle_marker_8ffc4a422b231b01f699888f426dec5a.bindPopup(popup_bf0ff48c5eb9e4454e0fe0da82af8873)\n",
       "        ;\n",
       "\n",
       "        \n",
       "    \n",
       "    \n",
       "            var circle_marker_6409c070e5dbe96105ab56141acd43c5 = L.circleMarker(\n",
       "                [1.357107, 103.8194992],\n",
       "                {&quot;bubblingMouseEvents&quot;: true, &quot;color&quot;: &quot;blue&quot;, &quot;dashArray&quot;: null, &quot;dashOffset&quot;: null, &quot;fill&quot;: true, &quot;fillColor&quot;: &quot;blue&quot;, &quot;fillOpacity&quot;: 0.6, &quot;fillRule&quot;: &quot;evenodd&quot;, &quot;lineCap&quot;: &quot;round&quot;, &quot;lineJoin&quot;: &quot;round&quot;, &quot;opacity&quot;: 1.0, &quot;radius&quot;: 8, &quot;stroke&quot;: true, &quot;weight&quot;: 3}\n",
       "            ).addTo(map_2e02150cf51148a4b5215a0178b0b44d);\n",
       "        \n",
       "    \n",
       "        var popup_98bee529249ef9cbc613873bcd998ec6 = L.popup({&quot;maxWidth&quot;: &quot;100%&quot;});\n",
       "\n",
       "        \n",
       "            \n",
       "                var html_e99893a018af50080cb0926e81b6af98 = $(`&lt;div id=&quot;html_e99893a018af50080cb0926e81b6af98&quot; style=&quot;width: 100.0%; height: 100.0%;&quot;&gt;Singapore: 171 transactions&lt;/div&gt;`)[0];\n",
       "                popup_98bee529249ef9cbc613873bcd998ec6.setContent(html_e99893a018af50080cb0926e81b6af98);\n",
       "            \n",
       "        \n",
       "\n",
       "        circle_marker_6409c070e5dbe96105ab56141acd43c5.bindPopup(popup_98bee529249ef9cbc613873bcd998ec6)\n",
       "        ;\n",
       "\n",
       "        \n",
       "    \n",
       "    \n",
       "            var circle_marker_5d7c68e11c53707921ef99e6e9f8ec7b = L.circleMarker(\n",
       "                [39.7837304, -100.445882],\n",
       "                {&quot;bubblingMouseEvents&quot;: true, &quot;color&quot;: &quot;blue&quot;, &quot;dashArray&quot;: null, &quot;dashOffset&quot;: null, &quot;fill&quot;: true, &quot;fillColor&quot;: &quot;blue&quot;, &quot;fillOpacity&quot;: 0.6, &quot;fillRule&quot;: &quot;evenodd&quot;, &quot;lineCap&quot;: &quot;round&quot;, &quot;lineJoin&quot;: &quot;round&quot;, &quot;opacity&quot;: 1.0, &quot;radius&quot;: 8, &quot;stroke&quot;: true, &quot;weight&quot;: 3}\n",
       "            ).addTo(map_2e02150cf51148a4b5215a0178b0b44d);\n",
       "        \n",
       "    \n",
       "        var popup_73aad5130e40e1f674fa70f81ccc0f19 = L.popup({&quot;maxWidth&quot;: &quot;100%&quot;});\n",
       "\n",
       "        \n",
       "            \n",
       "                var html_5481d712d634439dcde53cb9bcb5787b = $(`&lt;div id=&quot;html_5481d712d634439dcde53cb9bcb5787b&quot; style=&quot;width: 100.0%; height: 100.0%;&quot;&gt;USA: 167 transactions&lt;/div&gt;`)[0];\n",
       "                popup_73aad5130e40e1f674fa70f81ccc0f19.setContent(html_5481d712d634439dcde53cb9bcb5787b);\n",
       "            \n",
       "        \n",
       "\n",
       "        circle_marker_5d7c68e11c53707921ef99e6e9f8ec7b.bindPopup(popup_73aad5130e40e1f674fa70f81ccc0f19)\n",
       "        ;\n",
       "\n",
       "        \n",
       "    \n",
       "    \n",
       "            var circle_marker_df6553ce44b5aea18f7d67fd5b370b13 = L.circleMarker(\n",
       "                [38.9953683, 21.9877132],\n",
       "                {&quot;bubblingMouseEvents&quot;: true, &quot;color&quot;: &quot;blue&quot;, &quot;dashArray&quot;: null, &quot;dashOffset&quot;: null, &quot;fill&quot;: true, &quot;fillColor&quot;: &quot;blue&quot;, &quot;fillOpacity&quot;: 0.6, &quot;fillRule&quot;: &quot;evenodd&quot;, &quot;lineCap&quot;: &quot;round&quot;, &quot;lineJoin&quot;: &quot;round&quot;, &quot;opacity&quot;: 1.0, &quot;radius&quot;: 8, &quot;stroke&quot;: true, &quot;weight&quot;: 3}\n",
       "            ).addTo(map_2e02150cf51148a4b5215a0178b0b44d);\n",
       "        \n",
       "    \n",
       "        var popup_567db66f1aa51505a191e624ff5a7912 = L.popup({&quot;maxWidth&quot;: &quot;100%&quot;});\n",
       "\n",
       "        \n",
       "            \n",
       "                var html_000a3a993a2947f450ce4a319432ac08 = $(`&lt;div id=&quot;html_000a3a993a2947f450ce4a319432ac08&quot; style=&quot;width: 100.0%; height: 100.0%;&quot;&gt;Greece: 142 transactions&lt;/div&gt;`)[0];\n",
       "                popup_567db66f1aa51505a191e624ff5a7912.setContent(html_000a3a993a2947f450ce4a319432ac08);\n",
       "            \n",
       "        \n",
       "\n",
       "        circle_marker_df6553ce44b5aea18f7d67fd5b370b13.bindPopup(popup_567db66f1aa51505a191e624ff5a7912)\n",
       "        ;\n",
       "\n",
       "        \n",
       "    \n",
       "    \n",
       "            var circle_marker_0841f0a803e4bf90933a137bb46eef1e = L.circleMarker(\n",
       "                [61.0666922, -107.991707],\n",
       "                {&quot;bubblingMouseEvents&quot;: true, &quot;color&quot;: &quot;blue&quot;, &quot;dashArray&quot;: null, &quot;dashOffset&quot;: null, &quot;fill&quot;: true, &quot;fillColor&quot;: &quot;blue&quot;, &quot;fillOpacity&quot;: 0.6, &quot;fillRule&quot;: &quot;evenodd&quot;, &quot;lineCap&quot;: &quot;round&quot;, &quot;lineJoin&quot;: &quot;round&quot;, &quot;opacity&quot;: 1.0, &quot;radius&quot;: 8, &quot;stroke&quot;: true, &quot;weight&quot;: 3}\n",
       "            ).addTo(map_2e02150cf51148a4b5215a0178b0b44d);\n",
       "        \n",
       "    \n",
       "        var popup_3cde883c17b337602a896333022ebb0d = L.popup({&quot;maxWidth&quot;: &quot;100%&quot;});\n",
       "\n",
       "        \n",
       "            \n",
       "                var html_42ea7c528650e78a9fcff9e62fd16e7b = $(`&lt;div id=&quot;html_42ea7c528650e78a9fcff9e62fd16e7b&quot; style=&quot;width: 100.0%; height: 100.0%;&quot;&gt;Canada: 138 transactions&lt;/div&gt;`)[0];\n",
       "                popup_3cde883c17b337602a896333022ebb0d.setContent(html_42ea7c528650e78a9fcff9e62fd16e7b);\n",
       "            \n",
       "        \n",
       "\n",
       "        circle_marker_0841f0a803e4bf90933a137bb46eef1e.bindPopup(popup_3cde883c17b337602a896333022ebb0d)\n",
       "        ;\n",
       "\n",
       "        \n",
       "    \n",
       "    \n",
       "            var circle_marker_8ed606e8e6f3d48f4ba0b5dff0c49e1a = L.circleMarker(\n",
       "                [36.5748441, 139.2394179],\n",
       "                {&quot;bubblingMouseEvents&quot;: true, &quot;color&quot;: &quot;blue&quot;, &quot;dashArray&quot;: null, &quot;dashOffset&quot;: null, &quot;fill&quot;: true, &quot;fillColor&quot;: &quot;blue&quot;, &quot;fillOpacity&quot;: 0.6, &quot;fillRule&quot;: &quot;evenodd&quot;, &quot;lineCap&quot;: &quot;round&quot;, &quot;lineJoin&quot;: &quot;round&quot;, &quot;opacity&quot;: 1.0, &quot;radius&quot;: 8, &quot;stroke&quot;: true, &quot;weight&quot;: 3}\n",
       "            ).addTo(map_2e02150cf51148a4b5215a0178b0b44d);\n",
       "        \n",
       "    \n",
       "        var popup_628e4f3ead33d832362dbbc0cf611193 = L.popup({&quot;maxWidth&quot;: &quot;100%&quot;});\n",
       "\n",
       "        \n",
       "            \n",
       "                var html_2f3a34f782463d33fd21194f1d62aedb = $(`&lt;div id=&quot;html_2f3a34f782463d33fd21194f1d62aedb&quot; style=&quot;width: 100.0%; height: 100.0%;&quot;&gt;Japan: 115 transactions&lt;/div&gt;`)[0];\n",
       "                popup_628e4f3ead33d832362dbbc0cf611193.setContent(html_2f3a34f782463d33fd21194f1d62aedb);\n",
       "            \n",
       "        \n",
       "\n",
       "        circle_marker_8ed606e8e6f3d48f4ba0b5dff0c49e1a.bindPopup(popup_628e4f3ead33d832362dbbc0cf611193)\n",
       "        ;\n",
       "\n",
       "        \n",
       "    \n",
       "    \n",
       "            var circle_marker_2942da84a0a396d84d0a1c1c42d5994f = L.circleMarker(\n",
       "                [35.8885993, 14.4476911],\n",
       "                {&quot;bubblingMouseEvents&quot;: true, &quot;color&quot;: &quot;blue&quot;, &quot;dashArray&quot;: null, &quot;dashOffset&quot;: null, &quot;fill&quot;: true, &quot;fillColor&quot;: &quot;blue&quot;, &quot;fillOpacity&quot;: 0.6, &quot;fillRule&quot;: &quot;evenodd&quot;, &quot;lineCap&quot;: &quot;round&quot;, &quot;lineJoin&quot;: &quot;round&quot;, &quot;opacity&quot;: 1.0, &quot;radius&quot;: 8, &quot;stroke&quot;: true, &quot;weight&quot;: 3}\n",
       "            ).addTo(map_2e02150cf51148a4b5215a0178b0b44d);\n",
       "        \n",
       "    \n",
       "        var popup_a6365c3119434b393fad3ea95d08ede0 = L.popup({&quot;maxWidth&quot;: &quot;100%&quot;});\n",
       "\n",
       "        \n",
       "            \n",
       "                var html_e9914b65f2996283dd458a58675b9127 = $(`&lt;div id=&quot;html_e9914b65f2996283dd458a58675b9127&quot; style=&quot;width: 100.0%; height: 100.0%;&quot;&gt;Malta: 110 transactions&lt;/div&gt;`)[0];\n",
       "                popup_a6365c3119434b393fad3ea95d08ede0.setContent(html_e9914b65f2996283dd458a58675b9127);\n",
       "            \n",
       "        \n",
       "\n",
       "        circle_marker_2942da84a0a396d84d0a1c1c42d5994f.bindPopup(popup_a6365c3119434b393fad3ea95d08ede0)\n",
       "        ;\n",
       "\n",
       "        \n",
       "    \n",
       "    \n",
       "            var circle_marker_b3289c587f0470458da46b1d36f0e607 = L.circleMarker(\n",
       "                [24.0002488, 53.9994829],\n",
       "                {&quot;bubblingMouseEvents&quot;: true, &quot;color&quot;: &quot;blue&quot;, &quot;dashArray&quot;: null, &quot;dashOffset&quot;: null, &quot;fill&quot;: true, &quot;fillColor&quot;: &quot;blue&quot;, &quot;fillOpacity&quot;: 0.6, &quot;fillRule&quot;: &quot;evenodd&quot;, &quot;lineCap&quot;: &quot;round&quot;, &quot;lineJoin&quot;: &quot;round&quot;, &quot;opacity&quot;: 1.0, &quot;radius&quot;: 8, &quot;stroke&quot;: true, &quot;weight&quot;: 3}\n",
       "            ).addTo(map_2e02150cf51148a4b5215a0178b0b44d);\n",
       "        \n",
       "    \n",
       "        var popup_943a7d2bce3eb05280b32049249c2c43 = L.popup({&quot;maxWidth&quot;: &quot;100%&quot;});\n",
       "\n",
       "        \n",
       "            \n",
       "                var html_be4dc1c5a53d4fadf724dcb0a75b4552 = $(`&lt;div id=&quot;html_be4dc1c5a53d4fadf724dcb0a75b4552&quot; style=&quot;width: 100.0%; height: 100.0%;&quot;&gt;United Arab Emirates: 64 transactions&lt;/div&gt;`)[0];\n",
       "                popup_943a7d2bce3eb05280b32049249c2c43.setContent(html_be4dc1c5a53d4fadf724dcb0a75b4552);\n",
       "            \n",
       "        \n",
       "\n",
       "        circle_marker_b3289c587f0470458da46b1d36f0e607.bindPopup(popup_943a7d2bce3eb05280b32049249c2c43)\n",
       "        ;\n",
       "\n",
       "        \n",
       "    \n",
       "    \n",
       "            var circle_marker_9d3f3df32cbcd9769bbf3cc48586ee7a = L.circleMarker(\n",
       "                [24.2220464, 120.689399],\n",
       "                {&quot;bubblingMouseEvents&quot;: true, &quot;color&quot;: &quot;blue&quot;, &quot;dashArray&quot;: null, &quot;dashOffset&quot;: null, &quot;fill&quot;: true, &quot;fillColor&quot;: &quot;blue&quot;, &quot;fillOpacity&quot;: 0.6, &quot;fillRule&quot;: &quot;evenodd&quot;, &quot;lineCap&quot;: &quot;round&quot;, &quot;lineJoin&quot;: &quot;round&quot;, &quot;opacity&quot;: 1.0, &quot;radius&quot;: 8, &quot;stroke&quot;: true, &quot;weight&quot;: 3}\n",
       "            ).addTo(map_2e02150cf51148a4b5215a0178b0b44d);\n",
       "        \n",
       "    \n",
       "        var popup_1e72de8745a8f2c1387e56630a844712 = L.popup({&quot;maxWidth&quot;: &quot;100%&quot;});\n",
       "\n",
       "        \n",
       "            \n",
       "                var html_7bbc600201eefa6550bc0158cae1d684 = $(`&lt;div id=&quot;html_7bbc600201eefa6550bc0158cae1d684&quot; style=&quot;width: 100.0%; height: 100.0%;&quot;&gt;European Community: 60 transactions&lt;/div&gt;`)[0];\n",
       "                popup_1e72de8745a8f2c1387e56630a844712.setContent(html_7bbc600201eefa6550bc0158cae1d684);\n",
       "            \n",
       "        \n",
       "\n",
       "        circle_marker_9d3f3df32cbcd9769bbf3cc48586ee7a.bindPopup(popup_1e72de8745a8f2c1387e56630a844712)\n",
       "        ;\n",
       "\n",
       "        \n",
       "    \n",
       "    \n",
       "            var circle_marker_719928060b9a281bcb72ce41546e92c4 = L.circleMarker(\n",
       "                [-28.8166236, 24.991639],\n",
       "                {&quot;bubblingMouseEvents&quot;: true, &quot;color&quot;: &quot;blue&quot;, &quot;dashArray&quot;: null, &quot;dashOffset&quot;: null, &quot;fill&quot;: true, &quot;fillColor&quot;: &quot;blue&quot;, &quot;fillOpacity&quot;: 0.6, &quot;fillRule&quot;: &quot;evenodd&quot;, &quot;lineCap&quot;: &quot;round&quot;, &quot;lineJoin&quot;: &quot;round&quot;, &quot;opacity&quot;: 1.0, &quot;radius&quot;: 8, &quot;stroke&quot;: true, &quot;weight&quot;: 3}\n",
       "            ).addTo(map_2e02150cf51148a4b5215a0178b0b44d);\n",
       "        \n",
       "    \n",
       "        var popup_ab2aff515bb44d11db7ece506871d48e = L.popup({&quot;maxWidth&quot;: &quot;100%&quot;});\n",
       "\n",
       "        \n",
       "            \n",
       "                var html_f4322c6a995a4b7861b8727e8b305f48 = $(`&lt;div id=&quot;html_f4322c6a995a4b7861b8727e8b305f48&quot; style=&quot;width: 100.0%; height: 100.0%;&quot;&gt;RSA: 58 transactions&lt;/div&gt;`)[0];\n",
       "                popup_ab2aff515bb44d11db7ece506871d48e.setContent(html_f4322c6a995a4b7861b8727e8b305f48);\n",
       "            \n",
       "        \n",
       "\n",
       "        circle_marker_719928060b9a281bcb72ce41546e92c4.bindPopup(popup_ab2aff515bb44d11db7ece506871d48e)\n",
       "        ;\n",
       "\n",
       "        \n",
       "    \n",
       "    \n",
       "            var circle_marker_2b77ff97eda8e4c1c028a604e4eb7ad4 = L.circleMarker(\n",
       "                [40.375713, -76.4626118],\n",
       "                {&quot;bubblingMouseEvents&quot;: true, &quot;color&quot;: &quot;blue&quot;, &quot;dashArray&quot;: null, &quot;dashOffset&quot;: null, &quot;fill&quot;: true, &quot;fillColor&quot;: &quot;blue&quot;, &quot;fillOpacity&quot;: 0.6, &quot;fillRule&quot;: &quot;evenodd&quot;, &quot;lineCap&quot;: &quot;round&quot;, &quot;lineJoin&quot;: &quot;round&quot;, &quot;opacity&quot;: 1.0, &quot;radius&quot;: 8, &quot;stroke&quot;: true, &quot;weight&quot;: 3}\n",
       "            ).addTo(map_2e02150cf51148a4b5215a0178b0b44d);\n",
       "        \n",
       "    \n",
       "        var popup_6be9eba1823187a09cf913627026d43d = L.popup({&quot;maxWidth&quot;: &quot;100%&quot;});\n",
       "\n",
       "        \n",
       "            \n",
       "                var html_548924ca6ad25c052ae1aefdf33373fb = $(`&lt;div id=&quot;html_548924ca6ad25c052ae1aefdf33373fb&quot; style=&quot;width: 100.0%; height: 100.0%;&quot;&gt;Lebanon: 45 transactions&lt;/div&gt;`)[0];\n",
       "                popup_6be9eba1823187a09cf913627026d43d.setContent(html_548924ca6ad25c052ae1aefdf33373fb);\n",
       "            \n",
       "        \n",
       "\n",
       "        circle_marker_2b77ff97eda8e4c1c028a604e4eb7ad4.bindPopup(popup_6be9eba1823187a09cf913627026d43d)\n",
       "        ;\n",
       "\n",
       "        \n",
       "    \n",
       "    \n",
       "            var circle_marker_bbdf1fe0b4cc753062107fa1591e9747 = L.circleMarker(\n",
       "                [-10.3333333, -53.2],\n",
       "                {&quot;bubblingMouseEvents&quot;: true, &quot;color&quot;: &quot;blue&quot;, &quot;dashArray&quot;: null, &quot;dashOffset&quot;: null, &quot;fill&quot;: true, &quot;fillColor&quot;: &quot;blue&quot;, &quot;fillOpacity&quot;: 0.6, &quot;fillRule&quot;: &quot;evenodd&quot;, &quot;lineCap&quot;: &quot;round&quot;, &quot;lineJoin&quot;: &quot;round&quot;, &quot;opacity&quot;: 1.0, &quot;radius&quot;: 8, &quot;stroke&quot;: true, &quot;weight&quot;: 3}\n",
       "            ).addTo(map_2e02150cf51148a4b5215a0178b0b44d);\n",
       "        \n",
       "    \n",
       "        var popup_95c5858d1d4a0af6b4ce7a172493bf0c = L.popup({&quot;maxWidth&quot;: &quot;100%&quot;});\n",
       "\n",
       "        \n",
       "            \n",
       "                var html_3a581a66d5ebd659924a933710ff44d4 = $(`&lt;div id=&quot;html_3a581a66d5ebd659924a933710ff44d4&quot; style=&quot;width: 100.0%; height: 100.0%;&quot;&gt;Brazil: 32 transactions&lt;/div&gt;`)[0];\n",
       "                popup_95c5858d1d4a0af6b4ce7a172493bf0c.setContent(html_3a581a66d5ebd659924a933710ff44d4);\n",
       "            \n",
       "        \n",
       "\n",
       "        circle_marker_bbdf1fe0b4cc753062107fa1591e9747.bindPopup(popup_95c5858d1d4a0af6b4ce7a172493bf0c)\n",
       "        ;\n",
       "\n",
       "        \n",
       "    \n",
       "    \n",
       "            var circle_marker_a65bca30003b9298f7872a85abf393e0 = L.circleMarker(\n",
       "                [55.3500003, 23.7499997],\n",
       "                {&quot;bubblingMouseEvents&quot;: true, &quot;color&quot;: &quot;blue&quot;, &quot;dashArray&quot;: null, &quot;dashOffset&quot;: null, &quot;fill&quot;: true, &quot;fillColor&quot;: &quot;blue&quot;, &quot;fillOpacity&quot;: 0.6, &quot;fillRule&quot;: &quot;evenodd&quot;, &quot;lineCap&quot;: &quot;round&quot;, &quot;lineJoin&quot;: &quot;round&quot;, &quot;opacity&quot;: 1.0, &quot;radius&quot;: 8, &quot;stroke&quot;: true, &quot;weight&quot;: 3}\n",
       "            ).addTo(map_2e02150cf51148a4b5215a0178b0b44d);\n",
       "        \n",
       "    \n",
       "        var popup_a58bb5a039410fcd121b17570048874d = L.popup({&quot;maxWidth&quot;: &quot;100%&quot;});\n",
       "\n",
       "        \n",
       "            \n",
       "                var html_e68085bf37836167f9bafbce24c24ef2 = $(`&lt;div id=&quot;html_e68085bf37836167f9bafbce24c24ef2&quot; style=&quot;width: 100.0%; height: 100.0%;&quot;&gt;Lithuania: 29 transactions&lt;/div&gt;`)[0];\n",
       "                popup_a58bb5a039410fcd121b17570048874d.setContent(html_e68085bf37836167f9bafbce24c24ef2);\n",
       "            \n",
       "        \n",
       "\n",
       "        circle_marker_a65bca30003b9298f7872a85abf393e0.bindPopup(popup_a58bb5a039410fcd121b17570048874d)\n",
       "        ;\n",
       "\n",
       "        \n",
       "    \n",
       "    \n",
       "            var circle_marker_41477c09c8f2f6656ba9c718efb21f9e = L.circleMarker(\n",
       "                [49.7439047, 15.3381061],\n",
       "                {&quot;bubblingMouseEvents&quot;: true, &quot;color&quot;: &quot;blue&quot;, &quot;dashArray&quot;: null, &quot;dashOffset&quot;: null, &quot;fill&quot;: true, &quot;fillColor&quot;: &quot;blue&quot;, &quot;fillOpacity&quot;: 0.6, &quot;fillRule&quot;: &quot;evenodd&quot;, &quot;lineCap&quot;: &quot;round&quot;, &quot;lineJoin&quot;: &quot;round&quot;, &quot;opacity&quot;: 1.0, &quot;radius&quot;: 8, &quot;stroke&quot;: true, &quot;weight&quot;: 3}\n",
       "            ).addTo(map_2e02150cf51148a4b5215a0178b0b44d);\n",
       "        \n",
       "    \n",
       "        var popup_156ce11b1f034463fafa66d48cf07615 = L.popup({&quot;maxWidth&quot;: &quot;100%&quot;});\n",
       "\n",
       "        \n",
       "            \n",
       "                var html_016b8b05afacdee23d7fa8efe706ec2f = $(`&lt;div id=&quot;html_016b8b05afacdee23d7fa8efe706ec2f&quot; style=&quot;width: 100.0%; height: 100.0%;&quot;&gt;Czech Republic: 19 transactions&lt;/div&gt;`)[0];\n",
       "                popup_156ce11b1f034463fafa66d48cf07615.setContent(html_016b8b05afacdee23d7fa8efe706ec2f);\n",
       "            \n",
       "        \n",
       "\n",
       "        circle_marker_41477c09c8f2f6656ba9c718efb21f9e.bindPopup(popup_156ce11b1f034463fafa66d48cf07615)\n",
       "        ;\n",
       "\n",
       "        \n",
       "    \n",
       "    \n",
       "            var circle_marker_2b058b3488269ba52112bfdd42b346c4 = L.circleMarker(\n",
       "                [26.030093, 50.553336789123236],\n",
       "                {&quot;bubblingMouseEvents&quot;: true, &quot;color&quot;: &quot;blue&quot;, &quot;dashArray&quot;: null, &quot;dashOffset&quot;: null, &quot;fill&quot;: true, &quot;fillColor&quot;: &quot;blue&quot;, &quot;fillOpacity&quot;: 0.6, &quot;fillRule&quot;: &quot;evenodd&quot;, &quot;lineCap&quot;: &quot;round&quot;, &quot;lineJoin&quot;: &quot;round&quot;, &quot;opacity&quot;: 1.0, &quot;radius&quot;: 8, &quot;stroke&quot;: true, &quot;weight&quot;: 3}\n",
       "            ).addTo(map_2e02150cf51148a4b5215a0178b0b44d);\n",
       "        \n",
       "    \n",
       "        var popup_dfabdf928ba0723ab8444191b16f5c3d = L.popup({&quot;maxWidth&quot;: &quot;100%&quot;});\n",
       "\n",
       "        \n",
       "            \n",
       "                var html_1a84d7bac54901ad0a9d88401924ede7 = $(`&lt;div id=&quot;html_1a84d7bac54901ad0a9d88401924ede7&quot; style=&quot;width: 100.0%; height: 100.0%;&quot;&gt;Bahrain: 15 transactions&lt;/div&gt;`)[0];\n",
       "                popup_dfabdf928ba0723ab8444191b16f5c3d.setContent(html_1a84d7bac54901ad0a9d88401924ede7);\n",
       "            \n",
       "        \n",
       "\n",
       "        circle_marker_2b058b3488269ba52112bfdd42b346c4.bindPopup(popup_dfabdf928ba0723ab8444191b16f5c3d)\n",
       "        ;\n",
       "\n",
       "        \n",
       "    \n",
       "    \n",
       "            var circle_marker_f3bdb5fadcfc4e8eef6c3efbd397c0c1 = L.circleMarker(\n",
       "                [25.6242618, 42.3528328],\n",
       "                {&quot;bubblingMouseEvents&quot;: true, &quot;color&quot;: &quot;blue&quot;, &quot;dashArray&quot;: null, &quot;dashOffset&quot;: null, &quot;fill&quot;: true, &quot;fillColor&quot;: &quot;blue&quot;, &quot;fillOpacity&quot;: 0.6, &quot;fillRule&quot;: &quot;evenodd&quot;, &quot;lineCap&quot;: &quot;round&quot;, &quot;lineJoin&quot;: &quot;round&quot;, &quot;opacity&quot;: 1.0, &quot;radius&quot;: 8, &quot;stroke&quot;: true, &quot;weight&quot;: 3}\n",
       "            ).addTo(map_2e02150cf51148a4b5215a0178b0b44d);\n",
       "        \n",
       "    \n",
       "        var popup_f13231412e492d47686e9d4981db1cc3 = L.popup({&quot;maxWidth&quot;: &quot;100%&quot;});\n",
       "\n",
       "        \n",
       "            \n",
       "                var html_8558b21cc6f0c07f25dda93ef8ed757e = $(`&lt;div id=&quot;html_8558b21cc6f0c07f25dda93ef8ed757e&quot; style=&quot;width: 100.0%; height: 100.0%;&quot;&gt;Saudi Arabia: 9 transactions&lt;/div&gt;`)[0];\n",
       "                popup_f13231412e492d47686e9d4981db1cc3.setContent(html_8558b21cc6f0c07f25dda93ef8ed757e);\n",
       "            \n",
       "        \n",
       "\n",
       "        circle_marker_f3bdb5fadcfc4e8eef6c3efbd397c0c1.bindPopup(popup_f13231412e492d47686e9d4981db1cc3)\n",
       "        ;\n",
       "\n",
       "        \n",
       "    \n",
       "    \n",
       "            tile_layer_12107314b9dceac2b7011d35a1345d45.addTo(map_2e02150cf51148a4b5215a0178b0b44d);\n",
       "        \n",
       "&lt;/script&gt;\n",
       "&lt;/html&gt;\" style=\"position:absolute;width:100%;height:100%;left:0;top:0;border:none !important;\" allowfullscreen webkitallowfullscreen mozallowfullscreen></iframe></div></div>"
      ],
      "text/plain": [
       "<folium.folium.Map at 0x74de764b3cd0>"
      ]
     },
     "execution_count": 60,
     "metadata": {},
     "output_type": "execute_result"
    }
   ],
   "source": [
    "!pip install folium\n",
    "!pip install geopy\n",
    "import folium\n",
    "import pandas as pd\n",
    "from geopy.geocoders import Nominatim\n",
    "\n",
    "\n",
    "df_cleaned['Country'] = df_cleaned['Country'].str.strip()\n",
    "\n",
    "\n",
    "country_counts = df_cleaned['Country'].value_counts().reset_index()\n",
    "country_counts.columns = ['Country', 'TransactionCount']\n",
    "\n",
    "\n",
    "geolocator = Nominatim(user_agent=\"transaction_map\")\n",
    "\n",
    "\n",
    "m = folium.Map(location=[20, 0], zoom_start=2)\n",
    "\n",
    "\n",
    "for _, row in country_counts.iterrows():\n",
    "    country = row['Country']\n",
    "    transaction_count = row['TransactionCount']\n",
    "    \n",
    "   \n",
    "    location = geolocator.geocode(country)\n",
    "    \n",
    "    if location:  \n",
    "        lat, lon = location.latitude, location.longitude\n",
    "        folium.CircleMarker(\n",
    "            location=[lat, lon],\n",
    "            radius=8,\n",
    "            color='blue',\n",
    "            fill=True,\n",
    "            fill_color='blue',\n",
    "            fill_opacity=0.6,\n",
    "            popup=f'{country}: {transaction_count} transactions'\n",
    "        ).add_to(m)\n",
    "\n",
    "\n",
    "m.save('transaction_map.html')\n",
    "\n",
    "\n",
    "m"
   ]
  },
  {
   "cell_type": "markdown",
   "metadata": {},
   "source": [
    "##### Most distribution is around europe"
   ]
  },
  {
   "cell_type": "markdown",
   "metadata": {},
   "source": [
    "## Month date wise sales "
   ]
  },
  {
   "cell_type": "code",
   "execution_count": 64,
   "metadata": {},
   "outputs": [
    {
     "data": {
      "image/png": "[encoded data removed]",
      "text/plain": [
       "<Figure size 864x432 with 1 Axes>"
      ]
     },
     "metadata": {
      "needs_background": "light"
     },
     "output_type": "display_data"
    }
   ],
   "source": [
    "import pandas as pd\n",
    "import matplotlib.pyplot as plt\n",
    "\n",
    "\n",
    "df_cleaned['InvoiceDate'] = pd.to_datetime(df_cleaned['InvoiceDate'], format='%Y-%m-%d %H:%M:%S')\n",
    "\n",
    "\n",
    "df_cleaned['TotalSales'] = df_cleaned['Quantity'] * df_cleaned['UnitPrice']\n",
    "\n",
    "\n",
    "df_cleaned['Day'] = df_cleaned['InvoiceDate'].dt.day  \n",
    "daywise_sales = df_cleaned.groupby('Day')['TotalSales'].sum()\n",
    "\n",
    "\n",
    "plt.figure(figsize=(12, 6))\n",
    "daywise_sales.plot(kind='bar', color='g')\n",
    "plt.title('Daywise Sales')\n",
    "plt.xlabel('Day of the Month')\n",
    "plt.ylabel('Total Sales')\n",
    "plt.xticks(rotation=45)\n",
    "plt.grid(True)\n",
    "plt.show()"
   ]
  },
  {
   "cell_type": "markdown",
   "metadata": {},
   "source": [
    "## Top sold products "
   ]
  },
  {
   "cell_type": "code",
   "execution_count": 67,
   "metadata": {},
   "outputs": [
    {
     "data": {
      "image/png": "[encoded data removed]",
      "text/plain": [
       "<Figure size 864x432 with 1 Axes>"
      ]
     },
     "metadata": {
      "needs_background": "light"
     },
     "output_type": "display_data"
    },
    {
     "data": {
      "image/png": "[encoded data removed]",
      "text/plain": [
       "<Figure size 864x432 with 1 Axes>"
      ]
     },
     "metadata": {
      "needs_background": "light"
     },
     "output_type": "display_data"
    }
   ],
   "source": [
    "top_selling_products = df_cleaned.groupby('Description')['Quantity'].sum().sort_values(ascending=False).head(10)\n",
    "\n",
    "\n",
    "plt.figure(figsize=(12, 6))\n",
    "top_selling_products.plot(kind='barh', color='skyblue')\n",
    "plt.title('Top-selling Products based on Quantity Sold')\n",
    "plt.xlabel('Total Quantity Sold')\n",
    "plt.ylabel('Product Description')\n",
    "plt.gca().invert_yaxis()  \n",
    "plt.show()\n",
    "\n",
    "\n",
    "top_countries = df_cleaned.groupby('Country')['Quantity'].sum().sort_values(ascending=False).head(10)\n",
    "\n",
    "\n",
    "plt.figure(figsize=(12, 6))\n",
    "top_countries.plot(kind='bar', color='lightgreen')\n",
    "plt.title('Top Countries based on Quantity Sold')\n",
    "plt.xlabel('Country')\n",
    "plt.ylabel('Total Quantity Sold')\n",
    "plt.xticks(rotation=45)\n",
    "plt.show()\n"
   ]
  },
  {
   "cell_type": "markdown",
   "metadata": {},
   "source": [
    "##### mostly items are sold in UK\n",
    "##### Pack of 72 retrospot cake cases was the most sold product"
   ]
  },
  {
   "cell_type": "markdown",
   "metadata": {},
   "source": [
    "## Scatter plot of Quantity Vs UnitPrice"
   ]
  },
  {
   "cell_type": "code",
   "execution_count": 68,
   "metadata": {},
   "outputs": [
    {
     "data": {
      "image/png": "[encoded data removed]",
      "text/plain": [
       "<Figure size 720x432 with 1 Axes>"
      ]
     },
     "metadata": {
      "needs_background": "light"
     },
     "output_type": "display_data"
    }
   ],
   "source": [
    "plt.figure(figsize=(10, 6))\n",
    "plt.scatter(df_cleaned['Quantity'], df_cleaned['UnitPrice'], alpha=0.5, color='orange')\n",
    "plt.title('Scatter Plot of Quantity vs UnitPrice')\n",
    "plt.xlabel('Quantity')\n",
    "plt.ylabel('Unit Price')\n",
    "plt.grid(True)\n",
    "plt.show()"
   ]
  },
  {
   "cell_type": "code",
   "execution_count": 72,
   "metadata": {},
   "outputs": [
    {
     "name": "stdout",
     "output_type": "stream",
     "text": [
      "Correlation between Quantity and UnitPrice: -0.05530645431429095\n"
     ]
    }
   ],
   "source": [
    "correlation = df_cleaned['Quantity'].corr(df_cleaned['UnitPrice'])\n",
    "\n",
    "\n",
    "print(f\"Correlation between Quantity and UnitPrice: {correlation}\")"
   ]
  },
  {
   "cell_type": "markdown",
   "metadata": {},
   "source": [
    "## Top 5 Sold Products and Their Sales Distribution by Country"
   ]
  },
  {
   "cell_type": "code",
   "execution_count": 71,
   "metadata": {},
   "outputs": [
    {
     "data": {
      "image/png": "[encoded data removed]",
      "text/plain": [
       "<Figure size 864x576 with 1 Axes>"
      ]
     },
     "metadata": {
      "needs_background": "light"
     },
     "output_type": "display_data"
    }
   ],
   "source": [
    "product_country_sales = df_cleaned.groupby(['Description', 'Country'])['Quantity'].sum().reset_index()\n",
    "\n",
    "\n",
    "top_5_products = df_cleaned.groupby('Description')['Quantity'].sum().sort_values(ascending=False).head(5).index\n",
    "\n",
    "\n",
    "top_5_product_sales = product_country_sales[product_country_sales['Description'].isin(top_5_products)]\n",
    "\n",
    "\n",
    "top_5_product_sales_pivot = top_5_product_sales.pivot_table(index='Description', columns='Country', values='Quantity', aggfunc='sum', fill_value=0)\n",
    "\n",
    "\n",
    "top_5_product_sales_pivot.plot(kind='barh', stacked=True, figsize=(12, 8), cmap='Set3')\n",
    "\n",
    "plt.title('Top 5 Sold Products and Their Sales Distribution by Country')\n",
    "plt.xlabel('Total Quantity Sold')\n",
    "plt.ylabel('Product Description')\n",
    "plt.legend(title='Country', bbox_to_anchor=(1.05, 1), loc='upper left')\n",
    "plt.show()"
   ]
  },
  {
   "cell_type": "code",
   "execution_count": null,
   "metadata": {},
   "outputs": [],
   "source": []
  }
 ],
 "metadata": {
  "kernelspec": {
   "display_name": "Python 3",
   "language": "python",
   "name": "python3"
  },
  "language_info": {
   "codemirror_mode": {
    "name": "ipython",
    "version": 3
   },
   "file_extension": ".py",
   "mimetype": "text/x-python",
   "name": "python",
   "nbconvert_exporter": "python",
   "pygments_lexer": "ipython3",
   "version": "3.7.6"
  }
 },
 "nbformat": 4,
 "nbformat_minor": 4
}
